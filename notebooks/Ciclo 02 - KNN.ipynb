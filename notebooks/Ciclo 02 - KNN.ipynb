{
 "cells": [
  {
   "cell_type": "markdown",
   "id": "244d14bb",
   "metadata": {},
   "source": [
    "## Ciclo 02 - Aprendizado Supervisionado - Classificação"
   ]
  },
  {
   "cell_type": "markdown",
   "id": "9731192a",
   "metadata": {},
   "source": [
    "### 1.0 Import libraries"
   ]
  },
  {
   "cell_type": "code",
   "execution_count": 1,
   "id": "13609ac5",
   "metadata": {
    "tags": []
   },
   "outputs": [],
   "source": [
    "import pandas as pd\n",
    "from sklearn.neighbors import KNeighborsClassifier\n",
    "from sklearn import metrics as mt"
   ]
  },
  {
   "cell_type": "markdown",
   "id": "ca1114b8",
   "metadata": {},
   "source": [
    "### 1.1 - Load Dataset"
   ]
  },
  {
   "cell_type": "code",
   "execution_count": 2,
   "id": "e28edc8f",
   "metadata": {
    "tags": []
   },
   "outputs": [],
   "source": [
    "dataset_path = '../dataset/train.csv'\n",
    "\n",
    "df_root = pd.read_csv(dataset_path)\n",
    "\n",
    "df = df_root.copy()"
   ]
  },
  {
   "cell_type": "code",
   "execution_count": 3,
   "id": "a8686746",
   "metadata": {
    "tags": []
   },
   "outputs": [
    {
     "data": {
      "text/html": [
       "<div>\n",
       "<style scoped>\n",
       "    .dataframe tbody tr th:only-of-type {\n",
       "        vertical-align: middle;\n",
       "    }\n",
       "\n",
       "    .dataframe tbody tr th {\n",
       "        vertical-align: top;\n",
       "    }\n",
       "\n",
       "    .dataframe thead th {\n",
       "        text-align: right;\n",
       "    }\n",
       "</style>\n",
       "<table border=\"1\" class=\"dataframe\">\n",
       "  <thead>\n",
       "    <tr style=\"text-align: right;\">\n",
       "      <th></th>\n",
       "      <th>id_cliente</th>\n",
       "      <th>idade</th>\n",
       "      <th>saldo_atual</th>\n",
       "      <th>divida_atual</th>\n",
       "      <th>renda_anual</th>\n",
       "      <th>valor_em_investimentos</th>\n",
       "      <th>taxa_utilizacao_credito</th>\n",
       "      <th>num_emprestimos</th>\n",
       "      <th>num_contas_bancarias</th>\n",
       "      <th>num_cartoes_credito</th>\n",
       "      <th>dias_atraso_dt_venc</th>\n",
       "      <th>num_pgtos_atrasados</th>\n",
       "      <th>num_consultas_credito</th>\n",
       "      <th>taxa_juros</th>\n",
       "      <th>investe_exterior</th>\n",
       "      <th>pessoa_polit_exp</th>\n",
       "      <th>limite_adicional</th>\n",
       "    </tr>\n",
       "  </thead>\n",
       "  <tbody>\n",
       "    <tr>\n",
       "      <th>0</th>\n",
       "      <td>1767</td>\n",
       "      <td>21</td>\n",
       "      <td>278.172008</td>\n",
       "      <td>2577.05</td>\n",
       "      <td>24196.89636</td>\n",
       "      <td>104.306544</td>\n",
       "      <td>31.038763</td>\n",
       "      <td>6</td>\n",
       "      <td>5</td>\n",
       "      <td>7</td>\n",
       "      <td>21</td>\n",
       "      <td>14</td>\n",
       "      <td>9</td>\n",
       "      <td>15</td>\n",
       "      <td>Não</td>\n",
       "      <td>Não</td>\n",
       "      <td>Negar</td>\n",
       "    </tr>\n",
       "    <tr>\n",
       "      <th>1</th>\n",
       "      <td>11920</td>\n",
       "      <td>40</td>\n",
       "      <td>268.874152</td>\n",
       "      <td>2465.39</td>\n",
       "      <td>19227.37796</td>\n",
       "      <td>69.858778</td>\n",
       "      <td>36.917093</td>\n",
       "      <td>5</td>\n",
       "      <td>8</td>\n",
       "      <td>5</td>\n",
       "      <td>40</td>\n",
       "      <td>23</td>\n",
       "      <td>10</td>\n",
       "      <td>18</td>\n",
       "      <td>Não</td>\n",
       "      <td>Não</td>\n",
       "      <td>Negar</td>\n",
       "    </tr>\n",
       "    <tr>\n",
       "      <th>2</th>\n",
       "      <td>8910</td>\n",
       "      <td>36</td>\n",
       "      <td>446.643127</td>\n",
       "      <td>1055.29</td>\n",
       "      <td>42822.28223</td>\n",
       "      <td>134.201478</td>\n",
       "      <td>34.561714</td>\n",
       "      <td>0</td>\n",
       "      <td>3</td>\n",
       "      <td>6</td>\n",
       "      <td>26</td>\n",
       "      <td>13</td>\n",
       "      <td>3</td>\n",
       "      <td>15</td>\n",
       "      <td>Sim</td>\n",
       "      <td>Não</td>\n",
       "      <td>Negar</td>\n",
       "    </tr>\n",
       "    <tr>\n",
       "      <th>3</th>\n",
       "      <td>4964</td>\n",
       "      <td>58</td>\n",
       "      <td>321.141267</td>\n",
       "      <td>703.05</td>\n",
       "      <td>51786.82600</td>\n",
       "      <td>297.350067</td>\n",
       "      <td>31.493561</td>\n",
       "      <td>0</td>\n",
       "      <td>3</td>\n",
       "      <td>7</td>\n",
       "      <td>12</td>\n",
       "      <td>7</td>\n",
       "      <td>2</td>\n",
       "      <td>1</td>\n",
       "      <td>Sim</td>\n",
       "      <td>Não</td>\n",
       "      <td>Negar</td>\n",
       "    </tr>\n",
       "    <tr>\n",
       "      <th>4</th>\n",
       "      <td>10100</td>\n",
       "      <td>35</td>\n",
       "      <td>428.716114</td>\n",
       "      <td>891.29</td>\n",
       "      <td>44626.85346</td>\n",
       "      <td>134.201478</td>\n",
       "      <td>28.028887</td>\n",
       "      <td>2</td>\n",
       "      <td>8</td>\n",
       "      <td>7</td>\n",
       "      <td>24</td>\n",
       "      <td>10</td>\n",
       "      <td>8</td>\n",
       "      <td>20</td>\n",
       "      <td>Sim</td>\n",
       "      <td>Não</td>\n",
       "      <td>Negar</td>\n",
       "    </tr>\n",
       "  </tbody>\n",
       "</table>\n",
       "</div>"
      ],
      "text/plain": [
       "   id_cliente  idade  saldo_atual  divida_atual  renda_anual  \\\n",
       "0        1767     21   278.172008       2577.05  24196.89636   \n",
       "1       11920     40   268.874152       2465.39  19227.37796   \n",
       "2        8910     36   446.643127       1055.29  42822.28223   \n",
       "3        4964     58   321.141267        703.05  51786.82600   \n",
       "4       10100     35   428.716114        891.29  44626.85346   \n",
       "\n",
       "   valor_em_investimentos  taxa_utilizacao_credito  num_emprestimos  \\\n",
       "0              104.306544                31.038763                6   \n",
       "1               69.858778                36.917093                5   \n",
       "2              134.201478                34.561714                0   \n",
       "3              297.350067                31.493561                0   \n",
       "4              134.201478                28.028887                2   \n",
       "\n",
       "   num_contas_bancarias  num_cartoes_credito  dias_atraso_dt_venc  \\\n",
       "0                     5                    7                   21   \n",
       "1                     8                    5                   40   \n",
       "2                     3                    6                   26   \n",
       "3                     3                    7                   12   \n",
       "4                     8                    7                   24   \n",
       "\n",
       "   num_pgtos_atrasados  num_consultas_credito  taxa_juros investe_exterior  \\\n",
       "0                   14                      9          15              Não   \n",
       "1                   23                     10          18              Não   \n",
       "2                   13                      3          15              Sim   \n",
       "3                    7                      2           1              Sim   \n",
       "4                   10                      8          20              Sim   \n",
       "\n",
       "  pessoa_polit_exp limite_adicional  \n",
       "0              Não            Negar  \n",
       "1              Não            Negar  \n",
       "2              Não            Negar  \n",
       "3              Não            Negar  \n",
       "4              Não            Negar  "
      ]
     },
     "execution_count": 3,
     "metadata": {},
     "output_type": "execute_result"
    }
   ],
   "source": [
    "df_root.head()"
   ]
  },
  {
   "cell_type": "code",
   "execution_count": 4,
   "id": "a305339c",
   "metadata": {
    "tags": []
   },
   "outputs": [
    {
     "data": {
      "text/plain": [
       "array(['Negar', 'Conceder'], dtype=object)"
      ]
     },
     "execution_count": 4,
     "metadata": {},
     "output_type": "execute_result"
    }
   ],
   "source": [
    "df.loc[:, 'limite_adicional'].unique()"
   ]
  },
  {
   "cell_type": "code",
   "execution_count": 5,
   "id": "ce204c3c-da36-463b-82ce-8a0c1146a97b",
   "metadata": {
    "tags": []
   },
   "outputs": [
    {
     "data": {
      "text/plain": [
       "Negar       0.841579\n",
       "Conceder    0.158421\n",
       "Name: limite_adicional, dtype: float64"
      ]
     },
     "execution_count": 5,
     "metadata": {},
     "output_type": "execute_result"
    }
   ],
   "source": [
    "# Porcentagem de Negar e Conceder da nossa medida de interessa \"limite_adicional\"\n",
    "df.loc[:, 'limite_adicional'].value_counts(normalize = True)"
   ]
  },
  {
   "cell_type": "markdown",
   "id": "be8c2e8e-abac-4307-87c2-58cbb68d099c",
   "metadata": {},
   "source": [
    "### 2.0 Seleção de Features"
   ]
  },
  {
   "cell_type": "code",
   "execution_count": 6,
   "id": "ce81155b-842f-45c8-a966-847b5464024d",
   "metadata": {
    "tags": []
   },
   "outputs": [
    {
     "data": {
      "text/plain": [
       "Index(['id_cliente', 'idade', 'saldo_atual', 'divida_atual', 'renda_anual',\n",
       "       'valor_em_investimentos', 'taxa_utilizacao_credito', 'num_emprestimos',\n",
       "       'num_contas_bancarias', 'num_cartoes_credito', 'dias_atraso_dt_venc',\n",
       "       'num_pgtos_atrasados', 'num_consultas_credito', 'taxa_juros',\n",
       "       'investe_exterior', 'pessoa_polit_exp', 'limite_adicional'],\n",
       "      dtype='object')"
      ]
     },
     "execution_count": 6,
     "metadata": {},
     "output_type": "execute_result"
    }
   ],
   "source": [
    "df.columns"
   ]
  },
  {
   "cell_type": "code",
   "execution_count": 7,
   "id": "df381dc4-8008-4d78-a461-ee742bee5f42",
   "metadata": {},
   "outputs": [],
   "source": [
    "# Seleção de Features\n",
    "# x = features e y = label\n",
    "\n",
    "label = 'limite_adicional'\n",
    "features = ['idade', 'saldo_atual', 'divida_atual', 'renda_anual',\n",
    "       'valor_em_investimentos', 'taxa_utilizacao_credito', 'num_emprestimos',\n",
    "       'num_contas_bancarias', 'num_cartoes_credito', 'dias_atraso_dt_venc',\n",
    "       'num_pgtos_atrasados', 'num_consultas_credito', 'taxa_juros']\n",
    "\n",
    "\n",
    "x_train = df.loc[:, features] # Informações que eu irei me basear...\n",
    "y_train = df.loc[:, label].values.ravel() # Para tentar chegar nessa informação."
   ]
  },
  {
   "cell_type": "markdown",
   "id": "df9adb0d-ad05-4f5a-ad86-c8d1de740b9e",
   "metadata": {
    "tags": []
   },
   "source": [
    "### 3.0 Treinamento"
   ]
  },
  {
   "cell_type": "code",
   "execution_count": 8,
   "id": "5a979385-10a5-451b-8907-e9fd71931bb2",
   "metadata": {
    "tags": []
   },
   "outputs": [],
   "source": [
    "# Definição de parâmetros do treinamento.\n",
    "k = 7\n",
    "knn_classifier = KNeighborsClassifier( n_neighbors = k )\n",
    "\n",
    "# Treinamento do algoritmo\n",
    "knn_classifier.fit(x_train, y_train)\n",
    "\n",
    "# Previsão das observações\n",
    "y_pred = knn_classifier.predict(x_train)"
   ]
  },
  {
   "cell_type": "code",
   "execution_count": 9,
   "id": "69bd168b-0a3f-4129-b1eb-ad59dce51a72",
   "metadata": {
    "tags": []
   },
   "outputs": [],
   "source": [
    "# Comparação de Previsto com o Realizado\n",
    "df_result = df.loc[:, ['id_cliente', 'idade', 'limite_adicional']]\n",
    "df_result['predicted'] = y_pred"
   ]
  },
  {
   "cell_type": "code",
   "execution_count": 10,
   "id": "9f468d33-8607-48fb-9684-97a87ff3f588",
   "metadata": {
    "tags": []
   },
   "outputs": [
    {
     "data": {
      "text/html": [
       "<div>\n",
       "<style scoped>\n",
       "    .dataframe tbody tr th:only-of-type {\n",
       "        vertical-align: middle;\n",
       "    }\n",
       "\n",
       "    .dataframe tbody tr th {\n",
       "        vertical-align: top;\n",
       "    }\n",
       "\n",
       "    .dataframe thead th {\n",
       "        text-align: right;\n",
       "    }\n",
       "</style>\n",
       "<table border=\"1\" class=\"dataframe\">\n",
       "  <thead>\n",
       "    <tr style=\"text-align: right;\">\n",
       "      <th></th>\n",
       "      <th>id_cliente</th>\n",
       "      <th>idade</th>\n",
       "      <th>limite_adicional</th>\n",
       "      <th>predicted</th>\n",
       "    </tr>\n",
       "  </thead>\n",
       "  <tbody>\n",
       "    <tr>\n",
       "      <th>0</th>\n",
       "      <td>1767</td>\n",
       "      <td>21</td>\n",
       "      <td>Negar</td>\n",
       "      <td>Negar</td>\n",
       "    </tr>\n",
       "    <tr>\n",
       "      <th>1</th>\n",
       "      <td>11920</td>\n",
       "      <td>40</td>\n",
       "      <td>Negar</td>\n",
       "      <td>Negar</td>\n",
       "    </tr>\n",
       "    <tr>\n",
       "      <th>2</th>\n",
       "      <td>8910</td>\n",
       "      <td>36</td>\n",
       "      <td>Negar</td>\n",
       "      <td>Negar</td>\n",
       "    </tr>\n",
       "    <tr>\n",
       "      <th>3</th>\n",
       "      <td>4964</td>\n",
       "      <td>58</td>\n",
       "      <td>Negar</td>\n",
       "      <td>Negar</td>\n",
       "    </tr>\n",
       "    <tr>\n",
       "      <th>4</th>\n",
       "      <td>10100</td>\n",
       "      <td>35</td>\n",
       "      <td>Negar</td>\n",
       "      <td>Negar</td>\n",
       "    </tr>\n",
       "    <tr>\n",
       "      <th>...</th>\n",
       "      <td>...</td>\n",
       "      <td>...</td>\n",
       "      <td>...</td>\n",
       "      <td>...</td>\n",
       "    </tr>\n",
       "    <tr>\n",
       "      <th>9495</th>\n",
       "      <td>5155</td>\n",
       "      <td>29</td>\n",
       "      <td>Negar</td>\n",
       "      <td>Negar</td>\n",
       "    </tr>\n",
       "    <tr>\n",
       "      <th>9496</th>\n",
       "      <td>11977</td>\n",
       "      <td>1237</td>\n",
       "      <td>Negar</td>\n",
       "      <td>Negar</td>\n",
       "    </tr>\n",
       "    <tr>\n",
       "      <th>9497</th>\n",
       "      <td>9278</td>\n",
       "      <td>47</td>\n",
       "      <td>Negar</td>\n",
       "      <td>Negar</td>\n",
       "    </tr>\n",
       "    <tr>\n",
       "      <th>9498</th>\n",
       "      <td>2525</td>\n",
       "      <td>42</td>\n",
       "      <td>Negar</td>\n",
       "      <td>Negar</td>\n",
       "    </tr>\n",
       "    <tr>\n",
       "      <th>9499</th>\n",
       "      <td>9636</td>\n",
       "      <td>35</td>\n",
       "      <td>Negar</td>\n",
       "      <td>Negar</td>\n",
       "    </tr>\n",
       "  </tbody>\n",
       "</table>\n",
       "<p>9500 rows × 4 columns</p>\n",
       "</div>"
      ],
      "text/plain": [
       "      id_cliente  idade limite_adicional predicted\n",
       "0           1767     21            Negar     Negar\n",
       "1          11920     40            Negar     Negar\n",
       "2           8910     36            Negar     Negar\n",
       "3           4964     58            Negar     Negar\n",
       "4          10100     35            Negar     Negar\n",
       "...          ...    ...              ...       ...\n",
       "9495        5155     29            Negar     Negar\n",
       "9496       11977   1237            Negar     Negar\n",
       "9497        9278     47            Negar     Negar\n",
       "9498        2525     42            Negar     Negar\n",
       "9499        9636     35            Negar     Negar\n",
       "\n",
       "[9500 rows x 4 columns]"
      ]
     },
     "execution_count": 10,
     "metadata": {},
     "output_type": "execute_result"
    }
   ],
   "source": [
    "df_result"
   ]
  },
  {
   "cell_type": "code",
   "execution_count": 11,
   "id": "5565ab37-7d91-4e53-abc3-6f6c17b81ad3",
   "metadata": {
    "tags": []
   },
   "outputs": [
    {
     "data": {
      "text/html": [
       "<div>\n",
       "<style scoped>\n",
       "    .dataframe tbody tr th:only-of-type {\n",
       "        vertical-align: middle;\n",
       "    }\n",
       "\n",
       "    .dataframe tbody tr th {\n",
       "        vertical-align: top;\n",
       "    }\n",
       "\n",
       "    .dataframe thead th {\n",
       "        text-align: right;\n",
       "    }\n",
       "</style>\n",
       "<table border=\"1\" class=\"dataframe\">\n",
       "  <thead>\n",
       "    <tr style=\"text-align: right;\">\n",
       "      <th></th>\n",
       "      <th>id_cliente</th>\n",
       "      <th>idade</th>\n",
       "      <th>limite_adicional</th>\n",
       "      <th>predicted</th>\n",
       "    </tr>\n",
       "  </thead>\n",
       "  <tbody>\n",
       "    <tr>\n",
       "      <th>5474</th>\n",
       "      <td>10856</td>\n",
       "      <td>59</td>\n",
       "      <td>Negar</td>\n",
       "      <td>Negar</td>\n",
       "    </tr>\n",
       "    <tr>\n",
       "      <th>8788</th>\n",
       "      <td>4317</td>\n",
       "      <td>32</td>\n",
       "      <td>Negar</td>\n",
       "      <td>Negar</td>\n",
       "    </tr>\n",
       "    <tr>\n",
       "      <th>1961</th>\n",
       "      <td>2474</td>\n",
       "      <td>27</td>\n",
       "      <td>Negar</td>\n",
       "      <td>Negar</td>\n",
       "    </tr>\n",
       "    <tr>\n",
       "      <th>1278</th>\n",
       "      <td>10462</td>\n",
       "      <td>25</td>\n",
       "      <td>Negar</td>\n",
       "      <td>Negar</td>\n",
       "    </tr>\n",
       "    <tr>\n",
       "      <th>7737</th>\n",
       "      <td>10820</td>\n",
       "      <td>31</td>\n",
       "      <td>Negar</td>\n",
       "      <td>Negar</td>\n",
       "    </tr>\n",
       "    <tr>\n",
       "      <th>3574</th>\n",
       "      <td>5938</td>\n",
       "      <td>44</td>\n",
       "      <td>Conceder</td>\n",
       "      <td>Negar</td>\n",
       "    </tr>\n",
       "    <tr>\n",
       "      <th>272</th>\n",
       "      <td>7670</td>\n",
       "      <td>49</td>\n",
       "      <td>Negar</td>\n",
       "      <td>Negar</td>\n",
       "    </tr>\n",
       "    <tr>\n",
       "      <th>6939</th>\n",
       "      <td>6843</td>\n",
       "      <td>23</td>\n",
       "      <td>Negar</td>\n",
       "      <td>Negar</td>\n",
       "    </tr>\n",
       "    <tr>\n",
       "      <th>1293</th>\n",
       "      <td>1431</td>\n",
       "      <td>43</td>\n",
       "      <td>Negar</td>\n",
       "      <td>Negar</td>\n",
       "    </tr>\n",
       "    <tr>\n",
       "      <th>3621</th>\n",
       "      <td>7403</td>\n",
       "      <td>49</td>\n",
       "      <td>Negar</td>\n",
       "      <td>Negar</td>\n",
       "    </tr>\n",
       "  </tbody>\n",
       "</table>\n",
       "</div>"
      ],
      "text/plain": [
       "      id_cliente  idade limite_adicional predicted\n",
       "5474       10856     59            Negar     Negar\n",
       "8788        4317     32            Negar     Negar\n",
       "1961        2474     27            Negar     Negar\n",
       "1278       10462     25            Negar     Negar\n",
       "7737       10820     31            Negar     Negar\n",
       "3574        5938     44         Conceder     Negar\n",
       "272         7670     49            Negar     Negar\n",
       "6939        6843     23            Negar     Negar\n",
       "1293        1431     43            Negar     Negar\n",
       "3621        7403     49            Negar     Negar"
      ]
     },
     "execution_count": 11,
     "metadata": {},
     "output_type": "execute_result"
    }
   ],
   "source": [
    "# Pegar resultados e tentar achar algum errado com sample\n",
    "df_result.loc[:, :].sample(10)"
   ]
  },
  {
   "cell_type": "code",
   "execution_count": 12,
   "id": "95e73bf8-e69a-479a-8b12-22975870d01b",
   "metadata": {},
   "outputs": [
    {
     "data": {
      "text/plain": [
       "Negar       0.939789\n",
       "Conceder    0.060211\n",
       "Name: predicted, dtype: float64"
      ]
     },
     "execution_count": 12,
     "metadata": {},
     "output_type": "execute_result"
    }
   ],
   "source": [
    "df_result.loc[:, 'predicted'].value_counts(normalize = True)"
   ]
  },
  {
   "cell_type": "code",
   "execution_count": 13,
   "id": "c953345b-9ad8-4a12-9284-8fee46a1c8be",
   "metadata": {
    "tags": []
   },
   "outputs": [],
   "source": [
    "# Aplicando função para criar uma nova coluna com a comparação entre o real e a previsão\n",
    "df_result['acertos'] = (df_result.loc[:, ['id_cliente', 'limite_adicional', 'predicted']].apply(lambda x : 1 if x['limite_adicional'] == x['predicted'] else 0, axis = 1))"
   ]
  },
  {
   "cell_type": "code",
   "execution_count": 14,
   "id": "692c5556-82a0-4d88-9b93-be57d54db031",
   "metadata": {
    "tags": []
   },
   "outputs": [
    {
     "data": {
      "text/html": [
       "<div>\n",
       "<style scoped>\n",
       "    .dataframe tbody tr th:only-of-type {\n",
       "        vertical-align: middle;\n",
       "    }\n",
       "\n",
       "    .dataframe tbody tr th {\n",
       "        vertical-align: top;\n",
       "    }\n",
       "\n",
       "    .dataframe thead th {\n",
       "        text-align: right;\n",
       "    }\n",
       "</style>\n",
       "<table border=\"1\" class=\"dataframe\">\n",
       "  <thead>\n",
       "    <tr style=\"text-align: right;\">\n",
       "      <th></th>\n",
       "      <th>id_cliente</th>\n",
       "      <th>idade</th>\n",
       "      <th>limite_adicional</th>\n",
       "      <th>predicted</th>\n",
       "      <th>acertos</th>\n",
       "    </tr>\n",
       "  </thead>\n",
       "  <tbody>\n",
       "    <tr>\n",
       "      <th>613</th>\n",
       "      <td>2086</td>\n",
       "      <td>18</td>\n",
       "      <td>Negar</td>\n",
       "      <td>Negar</td>\n",
       "      <td>1</td>\n",
       "    </tr>\n",
       "    <tr>\n",
       "      <th>1783</th>\n",
       "      <td>7458</td>\n",
       "      <td>32</td>\n",
       "      <td>Negar</td>\n",
       "      <td>Negar</td>\n",
       "      <td>1</td>\n",
       "    </tr>\n",
       "    <tr>\n",
       "      <th>2659</th>\n",
       "      <td>11279</td>\n",
       "      <td>59</td>\n",
       "      <td>Negar</td>\n",
       "      <td>Negar</td>\n",
       "      <td>1</td>\n",
       "    </tr>\n",
       "    <tr>\n",
       "      <th>3274</th>\n",
       "      <td>5043</td>\n",
       "      <td>26</td>\n",
       "      <td>Conceder</td>\n",
       "      <td>Negar</td>\n",
       "      <td>0</td>\n",
       "    </tr>\n",
       "    <tr>\n",
       "      <th>9382</th>\n",
       "      <td>2703</td>\n",
       "      <td>31</td>\n",
       "      <td>Negar</td>\n",
       "      <td>Negar</td>\n",
       "      <td>1</td>\n",
       "    </tr>\n",
       "    <tr>\n",
       "      <th>8535</th>\n",
       "      <td>4018</td>\n",
       "      <td>50</td>\n",
       "      <td>Negar</td>\n",
       "      <td>Negar</td>\n",
       "      <td>1</td>\n",
       "    </tr>\n",
       "    <tr>\n",
       "      <th>7864</th>\n",
       "      <td>5247</td>\n",
       "      <td>40</td>\n",
       "      <td>Negar</td>\n",
       "      <td>Negar</td>\n",
       "      <td>1</td>\n",
       "    </tr>\n",
       "    <tr>\n",
       "      <th>5888</th>\n",
       "      <td>2519</td>\n",
       "      <td>34</td>\n",
       "      <td>Conceder</td>\n",
       "      <td>Negar</td>\n",
       "      <td>0</td>\n",
       "    </tr>\n",
       "    <tr>\n",
       "      <th>8729</th>\n",
       "      <td>9929</td>\n",
       "      <td>44</td>\n",
       "      <td>Negar</td>\n",
       "      <td>Negar</td>\n",
       "      <td>1</td>\n",
       "    </tr>\n",
       "    <tr>\n",
       "      <th>8647</th>\n",
       "      <td>4596</td>\n",
       "      <td>50</td>\n",
       "      <td>Negar</td>\n",
       "      <td>Negar</td>\n",
       "      <td>1</td>\n",
       "    </tr>\n",
       "  </tbody>\n",
       "</table>\n",
       "</div>"
      ],
      "text/plain": [
       "      id_cliente  idade limite_adicional predicted  acertos\n",
       "613         2086     18            Negar     Negar        1\n",
       "1783        7458     32            Negar     Negar        1\n",
       "2659       11279     59            Negar     Negar        1\n",
       "3274        5043     26         Conceder     Negar        0\n",
       "9382        2703     31            Negar     Negar        1\n",
       "8535        4018     50            Negar     Negar        1\n",
       "7864        5247     40            Negar     Negar        1\n",
       "5888        2519     34         Conceder     Negar        0\n",
       "8729        9929     44            Negar     Negar        1\n",
       "8647        4596     50            Negar     Negar        1"
      ]
     },
     "execution_count": 14,
     "metadata": {},
     "output_type": "execute_result"
    }
   ],
   "source": [
    "df_result.loc[:, :].sample(10)"
   ]
  },
  {
   "cell_type": "code",
   "execution_count": 15,
   "id": "4074e697-4530-412a-b911-3597c1d73b59",
   "metadata": {
    "tags": []
   },
   "outputs": [
    {
     "data": {
      "text/plain": [
       "8161"
      ]
     },
     "execution_count": 15,
     "metadata": {},
     "output_type": "execute_result"
    }
   ],
   "source": [
    "df_result['acertos'].sum()"
   ]
  },
  {
   "cell_type": "code",
   "execution_count": 16,
   "id": "38b7384d-2471-4dab-8e35-a8eef0aad999",
   "metadata": {
    "tags": []
   },
   "outputs": [
    {
     "data": {
      "text/plain": [
       "(9500, 5)"
      ]
     },
     "execution_count": 16,
     "metadata": {},
     "output_type": "execute_result"
    }
   ],
   "source": [
    "df_result.shape"
   ]
  },
  {
   "cell_type": "markdown",
   "id": "d43d1f19-60d6-4c73-8530-7420a37c459a",
   "metadata": {},
   "source": [
    "### 4.0 Matriz de Confusão"
   ]
  },
  {
   "cell_type": "code",
   "execution_count": 17,
   "id": "12d642f7-866c-49b4-9f11-ff6cfebe076e",
   "metadata": {
    "tags": []
   },
   "outputs": [
    {
     "data": {
      "text/plain": [
       "array([[ 369, 1136],\n",
       "       [ 203, 7792]], dtype=int64)"
      ]
     },
     "execution_count": 17,
     "metadata": {},
     "output_type": "execute_result"
    }
   ],
   "source": [
    "mt.confusion_matrix(y_train, y_pred)"
   ]
  },
  {
   "cell_type": "markdown",
   "id": "ff4ae69e-5bb8-466e-8a43-c8ef3d2c3345",
   "metadata": {},
   "source": [
    "### 4.1 - Acurácia"
   ]
  },
  {
   "cell_type": "code",
   "execution_count": 18,
   "id": "bac4f84b-f5f0-4c94-ac8a-109b48791823",
   "metadata": {
    "tags": []
   },
   "outputs": [
    {
     "data": {
      "text/plain": [
       "0.8590526315789474"
      ]
     },
     "execution_count": 18,
     "metadata": {},
     "output_type": "execute_result"
    }
   ],
   "source": [
    "mt.accuracy_score(y_train, y_pred)"
   ]
  },
  {
   "cell_type": "markdown",
   "id": "8e999c08-960b-41fb-a9f3-b98a74d08abd",
   "metadata": {},
   "source": [
    "### 4.2 Precisão"
   ]
  },
  {
   "cell_type": "code",
   "execution_count": 25,
   "id": "b5e14104-7660-49b3-8bff-01da2d7130f6",
   "metadata": {
    "tags": []
   },
   "outputs": [
    {
     "data": {
      "text/plain": [
       "0.6451048951048951"
      ]
     },
     "execution_count": 25,
     "metadata": {},
     "output_type": "execute_result"
    }
   ],
   "source": [
    "# Precisão da label positiva 'Conceder'\n",
    "mt.precision_score(y_train, y_pred, pos_label='Conceder' )"
   ]
  },
  {
   "cell_type": "markdown",
   "id": "1a9f16b1-6c1a-4e3c-87d5-28d059c4260a",
   "metadata": {},
   "source": [
    "### 4.3 Recall"
   ]
  },
  {
   "cell_type": "code",
   "execution_count": 26,
   "id": "321dc0ef-ecdf-4570-87dd-a9420d47ba98",
   "metadata": {
    "tags": []
   },
   "outputs": [
    {
     "data": {
      "text/plain": [
       "0.24518272425249169"
      ]
     },
     "execution_count": 26,
     "metadata": {},
     "output_type": "execute_result"
    }
   ],
   "source": [
    "# Recall da label positiva 'Conceder'\n",
    "mt.recall_score(y_train, y_pred, pos_label='Conceder' )"
   ]
  },
  {
   "cell_type": "code",
   "execution_count": null,
   "id": "7ae07be5-b31e-4b3b-b836-af2344017758",
   "metadata": {},
   "outputs": [],
   "source": []
  }
 ],
 "metadata": {
  "kernelspec": {
   "display_name": "Python 3 (ipykernel)",
   "language": "python",
   "name": "python3"
  },
  "language_info": {
   "codemirror_mode": {
    "name": "ipython",
    "version": 3
   },
   "file_extension": ".py",
   "mimetype": "text/x-python",
   "name": "python",
   "nbconvert_exporter": "python",
   "pygments_lexer": "ipython3",
   "version": "3.10.9"
  }
 },
 "nbformat": 4,
 "nbformat_minor": 5
}
