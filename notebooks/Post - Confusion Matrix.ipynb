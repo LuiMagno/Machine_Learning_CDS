{
 "cells": [
  {
   "cell_type": "code",
   "execution_count": 11,
   "id": "bcff5227-094b-43dc-8dff-c2b9e8391615",
   "metadata": {
    "tags": []
   },
   "outputs": [],
   "source": [
    "from sklearn.metrics import confusion_matrix\n",
    "from sklearn.metrics import classification_report"
   ]
  },
  {
   "cell_type": "code",
   "execution_count": 19,
   "id": "9cce9ad8-56a0-4b4b-b20e-22987830e43e",
   "metadata": {},
   "outputs": [],
   "source": [
    "# 0 para Macacos, e 1 para Sapos\n",
    "valores_reais = [0, 0, 0 , 0, 0, 0, 0, 0, 0, 0, 1, 1, 1, 1, 1, 1, 1, 1, 1, 1]\n",
    "valores_preditos = [0, 1, 0 , 1, 0, 0, 0, 0, 0, 0, 1, 1, 0, 1, 1, 0, 1, 0, 1, 1]"
   ]
  },
  {
   "cell_type": "code",
   "execution_count": 20,
   "id": "c2404078-135c-4da0-9c1d-f1b7017e64f8",
   "metadata": {},
   "outputs": [
    {
     "data": {
      "text/plain": [
       "array([[8, 2],\n",
       "       [3, 7]], dtype=int64)"
      ]
     },
     "execution_count": 20,
     "metadata": {},
     "output_type": "execute_result"
    }
   ],
   "source": [
    "confusion_matrix(valores_reais, valores_preditos)"
   ]
  },
  {
   "cell_type": "code",
   "execution_count": 25,
   "id": "0f8fb5c4-b333-4a2d-83eb-7cabab18ad79",
   "metadata": {
    "tags": []
   },
   "outputs": [
    {
     "name": "stdout",
     "output_type": "stream",
     "text": [
      "              precision    recall  f1-score   support\n",
      "\n",
      "      Macaco       0.73      0.80      0.76        10\n",
      "        Sapo       0.78      0.70      0.74        10\n",
      "\n",
      "    accuracy                           0.75        20\n",
      "   macro avg       0.75      0.75      0.75        20\n",
      "weighted avg       0.75      0.75      0.75        20\n",
      "\n"
     ]
    }
   ],
   "source": [
    "print(classification_report(valores_reais, valores_preditos, target_names=['Macaco', 'Sapo']))"
   ]
  },
  {
   "cell_type": "code",
   "execution_count": null,
   "id": "56e96d44-fddb-4820-bbd6-f66f5d56b439",
   "metadata": {},
   "outputs": [],
   "source": []
  }
 ],
 "metadata": {
  "kernelspec": {
   "display_name": "Python 3 (ipykernel)",
   "language": "python",
   "name": "python3"
  },
  "language_info": {
   "codemirror_mode": {
    "name": "ipython",
    "version": 3
   },
   "file_extension": ".py",
   "mimetype": "text/x-python",
   "name": "python",
   "nbconvert_exporter": "python",
   "pygments_lexer": "ipython3",
   "version": "3.11.5"
  }
 },
 "nbformat": 4,
 "nbformat_minor": 5
}
