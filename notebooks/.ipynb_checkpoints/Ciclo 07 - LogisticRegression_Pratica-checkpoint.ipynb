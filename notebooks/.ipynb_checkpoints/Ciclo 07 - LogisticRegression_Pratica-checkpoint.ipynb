{
 "cells": [
  {
   "cell_type": "code",
   "execution_count": 1,
   "id": "28302e5e-c755-4d24-a73d-71556b990f08",
   "metadata": {
    "tags": []
   },
   "outputs": [],
   "source": [
    "# Load libraries\n",
    "import numpy as np\n",
    "import pandas as pd\n",
    "import matplotlib.pyplot as plt\n",
    "from sklearn import linear_model as lm\n",
    "from sklearn import datasets as dt\n"
   ]
  },
  {
   "cell_type": "code",
   "execution_count": 4,
   "id": "7337777d-c054-40cd-9a06-3ccb2948f230",
   "metadata": {
    "tags": []
   },
   "outputs": [],
   "source": [
    "# =========== Loading dataset ===========\n",
    "n_samples = 1000\n",
    "n_outliers = 50\n",
    "X, y, coef = dt.make_regression(\n",
    "                n_samples=n_samples,\n",
    "                n_features=1,\n",
    "                n_informative=1,\n",
    "                noise=10,\n",
    "                coef=True,\n",
    "                random_state=0)"
   ]
  },
  {
   "cell_type": "code",
   "execution_count": null,
   "id": "e669aeb6-16b5-4b78-903b-703c25a58e6e",
   "metadata": {},
   "outputs": [],
   "source": []
  }
 ],
 "metadata": {
  "kernelspec": {
   "display_name": "Python 3 (ipykernel)",
   "language": "python",
   "name": "python3"
  },
  "language_info": {
   "codemirror_mode": {
    "name": "ipython",
    "version": 3
   },
   "file_extension": ".py",
   "mimetype": "text/x-python",
   "name": "python",
   "nbconvert_exporter": "python",
   "pygments_lexer": "ipython3",
   "version": "3.11.5"
  }
 },
 "nbformat": 4,
 "nbformat_minor": 5
}
