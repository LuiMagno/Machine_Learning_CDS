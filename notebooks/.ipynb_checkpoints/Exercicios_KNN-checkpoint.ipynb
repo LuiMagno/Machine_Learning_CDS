{
 "cells": [
  {
   "cell_type": "markdown",
   "id": "e11c23a3-e101-484a-85ee-a231c2d9dc52",
   "metadata": {},
   "source": [
    "# Ciclo 02 - Exercícios de fim de Ciclo - KNN"
   ]
  },
  {
   "cell_type": "markdown",
   "id": "39f5d98c-a0f3-43ff-82ea-c9b9adaf6c52",
   "metadata": {},
   "source": [
    "## 1.0 - Importando libraries"
   ]
  },
  {
   "cell_type": "code",
   "execution_count": 26,
   "id": "bed9134e-be2a-474b-8ab5-16de891cae6e",
   "metadata": {
    "tags": []
   },
   "outputs": [],
   "source": [
    "import pandas as pd\n",
    "from sklearn.neighbors import KNeighborsClassifier\n",
    "from sklearn import metrics as mt"
   ]
  },
  {
   "cell_type": "markdown",
   "id": "2762bbec-7595-4d2e-ac2c-af388236005a",
   "metadata": {},
   "source": [
    "### 1.1 - Load Dataset"
   ]
  },
  {
   "cell_type": "code",
   "execution_count": 4,
   "id": "db2d0055-797c-447f-aa04-b6670063687c",
   "metadata": {
    "tags": []
   },
   "outputs": [],
   "source": [
    "path = \"../dataset/train.csv\"\n",
    "\n",
    "df_root = pd.read_csv(path)"
   ]
  },
  {
   "cell_type": "code",
   "execution_count": 7,
   "id": "3770ef7b-15d1-4045-9d88-8310b6f999eb",
   "metadata": {
    "tags": []
   },
   "outputs": [
    {
     "data": {
      "text/html": [
       "<div>\n",
       "<style scoped>\n",
       "    .dataframe tbody tr th:only-of-type {\n",
       "        vertical-align: middle;\n",
       "    }\n",
       "\n",
       "    .dataframe tbody tr th {\n",
       "        vertical-align: top;\n",
       "    }\n",
       "\n",
       "    .dataframe thead th {\n",
       "        text-align: right;\n",
       "    }\n",
       "</style>\n",
       "<table border=\"1\" class=\"dataframe\">\n",
       "  <thead>\n",
       "    <tr style=\"text-align: right;\">\n",
       "      <th></th>\n",
       "      <th>id_cliente</th>\n",
       "      <th>idade</th>\n",
       "      <th>saldo_atual</th>\n",
       "      <th>divida_atual</th>\n",
       "      <th>renda_anual</th>\n",
       "      <th>valor_em_investimentos</th>\n",
       "      <th>taxa_utilizacao_credito</th>\n",
       "      <th>num_emprestimos</th>\n",
       "      <th>num_contas_bancarias</th>\n",
       "      <th>num_cartoes_credito</th>\n",
       "      <th>dias_atraso_dt_venc</th>\n",
       "      <th>num_pgtos_atrasados</th>\n",
       "      <th>num_consultas_credito</th>\n",
       "      <th>taxa_juros</th>\n",
       "      <th>investe_exterior</th>\n",
       "      <th>pessoa_polit_exp</th>\n",
       "      <th>limite_adicional</th>\n",
       "    </tr>\n",
       "  </thead>\n",
       "  <tbody>\n",
       "    <tr>\n",
       "      <th>0</th>\n",
       "      <td>1767</td>\n",
       "      <td>21</td>\n",
       "      <td>278.172008</td>\n",
       "      <td>2577.05</td>\n",
       "      <td>24196.896360</td>\n",
       "      <td>104.306544</td>\n",
       "      <td>31.038763</td>\n",
       "      <td>6</td>\n",
       "      <td>5</td>\n",
       "      <td>7</td>\n",
       "      <td>21</td>\n",
       "      <td>14</td>\n",
       "      <td>9</td>\n",
       "      <td>15</td>\n",
       "      <td>Não</td>\n",
       "      <td>Não</td>\n",
       "      <td>Negar</td>\n",
       "    </tr>\n",
       "    <tr>\n",
       "      <th>1</th>\n",
       "      <td>11920</td>\n",
       "      <td>40</td>\n",
       "      <td>268.874152</td>\n",
       "      <td>2465.39</td>\n",
       "      <td>19227.377960</td>\n",
       "      <td>69.858778</td>\n",
       "      <td>36.917093</td>\n",
       "      <td>5</td>\n",
       "      <td>8</td>\n",
       "      <td>5</td>\n",
       "      <td>40</td>\n",
       "      <td>23</td>\n",
       "      <td>10</td>\n",
       "      <td>18</td>\n",
       "      <td>Não</td>\n",
       "      <td>Não</td>\n",
       "      <td>Negar</td>\n",
       "    </tr>\n",
       "    <tr>\n",
       "      <th>2</th>\n",
       "      <td>8910</td>\n",
       "      <td>36</td>\n",
       "      <td>446.643127</td>\n",
       "      <td>1055.29</td>\n",
       "      <td>42822.282230</td>\n",
       "      <td>134.201478</td>\n",
       "      <td>34.561714</td>\n",
       "      <td>0</td>\n",
       "      <td>3</td>\n",
       "      <td>6</td>\n",
       "      <td>26</td>\n",
       "      <td>13</td>\n",
       "      <td>3</td>\n",
       "      <td>15</td>\n",
       "      <td>Sim</td>\n",
       "      <td>Não</td>\n",
       "      <td>Negar</td>\n",
       "    </tr>\n",
       "    <tr>\n",
       "      <th>3</th>\n",
       "      <td>4964</td>\n",
       "      <td>58</td>\n",
       "      <td>321.141267</td>\n",
       "      <td>703.05</td>\n",
       "      <td>51786.826000</td>\n",
       "      <td>297.350067</td>\n",
       "      <td>31.493561</td>\n",
       "      <td>0</td>\n",
       "      <td>3</td>\n",
       "      <td>7</td>\n",
       "      <td>12</td>\n",
       "      <td>7</td>\n",
       "      <td>2</td>\n",
       "      <td>1</td>\n",
       "      <td>Sim</td>\n",
       "      <td>Não</td>\n",
       "      <td>Negar</td>\n",
       "    </tr>\n",
       "    <tr>\n",
       "      <th>4</th>\n",
       "      <td>10100</td>\n",
       "      <td>35</td>\n",
       "      <td>428.716114</td>\n",
       "      <td>891.29</td>\n",
       "      <td>44626.853460</td>\n",
       "      <td>134.201478</td>\n",
       "      <td>28.028887</td>\n",
       "      <td>2</td>\n",
       "      <td>8</td>\n",
       "      <td>7</td>\n",
       "      <td>24</td>\n",
       "      <td>10</td>\n",
       "      <td>8</td>\n",
       "      <td>20</td>\n",
       "      <td>Sim</td>\n",
       "      <td>Não</td>\n",
       "      <td>Negar</td>\n",
       "    </tr>\n",
       "    <tr>\n",
       "      <th>...</th>\n",
       "      <td>...</td>\n",
       "      <td>...</td>\n",
       "      <td>...</td>\n",
       "      <td>...</td>\n",
       "      <td>...</td>\n",
       "      <td>...</td>\n",
       "      <td>...</td>\n",
       "      <td>...</td>\n",
       "      <td>...</td>\n",
       "      <td>...</td>\n",
       "      <td>...</td>\n",
       "      <td>...</td>\n",
       "      <td>...</td>\n",
       "      <td>...</td>\n",
       "      <td>...</td>\n",
       "      <td>...</td>\n",
       "      <td>...</td>\n",
       "    </tr>\n",
       "    <tr>\n",
       "      <th>95</th>\n",
       "      <td>6389</td>\n",
       "      <td>42</td>\n",
       "      <td>264.484826</td>\n",
       "      <td>2582.60</td>\n",
       "      <td>41914.428500</td>\n",
       "      <td>204.674536</td>\n",
       "      <td>40.053240</td>\n",
       "      <td>5</td>\n",
       "      <td>8</td>\n",
       "      <td>9</td>\n",
       "      <td>57</td>\n",
       "      <td>21</td>\n",
       "      <td>6</td>\n",
       "      <td>26</td>\n",
       "      <td>Não</td>\n",
       "      <td>Não</td>\n",
       "      <td>Negar</td>\n",
       "    </tr>\n",
       "    <tr>\n",
       "      <th>96</th>\n",
       "      <td>4784</td>\n",
       "      <td>46</td>\n",
       "      <td>389.229037</td>\n",
       "      <td>707.15</td>\n",
       "      <td>28367.048325</td>\n",
       "      <td>50.346588</td>\n",
       "      <td>40.282555</td>\n",
       "      <td>0</td>\n",
       "      <td>0</td>\n",
       "      <td>2</td>\n",
       "      <td>15</td>\n",
       "      <td>6</td>\n",
       "      <td>0</td>\n",
       "      <td>4989</td>\n",
       "      <td>Não</td>\n",
       "      <td>Não</td>\n",
       "      <td>Conceder</td>\n",
       "    </tr>\n",
       "    <tr>\n",
       "      <th>97</th>\n",
       "      <td>9277</td>\n",
       "      <td>30</td>\n",
       "      <td>356.205725</td>\n",
       "      <td>93.73</td>\n",
       "      <td>51526.942250</td>\n",
       "      <td>172.542043</td>\n",
       "      <td>29.139873</td>\n",
       "      <td>100</td>\n",
       "      <td>1</td>\n",
       "      <td>5</td>\n",
       "      <td>12</td>\n",
       "      <td>7</td>\n",
       "      <td>2</td>\n",
       "      <td>5</td>\n",
       "      <td>Sim</td>\n",
       "      <td>Não</td>\n",
       "      <td>Negar</td>\n",
       "    </tr>\n",
       "    <tr>\n",
       "      <th>98</th>\n",
       "      <td>10829</td>\n",
       "      <td>34</td>\n",
       "      <td>417.359874</td>\n",
       "      <td>1465.87</td>\n",
       "      <td>39316.599350</td>\n",
       "      <td>101.155542</td>\n",
       "      <td>24.465018</td>\n",
       "      <td>0</td>\n",
       "      <td>6</td>\n",
       "      <td>3</td>\n",
       "      <td>21</td>\n",
       "      <td>9</td>\n",
       "      <td>4</td>\n",
       "      <td>5</td>\n",
       "      <td>Não</td>\n",
       "      <td>Não</td>\n",
       "      <td>Negar</td>\n",
       "    </tr>\n",
       "    <tr>\n",
       "      <th>99</th>\n",
       "      <td>4061</td>\n",
       "      <td>24</td>\n",
       "      <td>309.794687</td>\n",
       "      <td>1316.19</td>\n",
       "      <td>40461.234100</td>\n",
       "      <td>33.183702</td>\n",
       "      <td>30.156865</td>\n",
       "      <td>7</td>\n",
       "      <td>4</td>\n",
       "      <td>4</td>\n",
       "      <td>13</td>\n",
       "      <td>23</td>\n",
       "      <td>5</td>\n",
       "      <td>6</td>\n",
       "      <td>Não</td>\n",
       "      <td>Não</td>\n",
       "      <td>Negar</td>\n",
       "    </tr>\n",
       "  </tbody>\n",
       "</table>\n",
       "<p>100 rows × 17 columns</p>\n",
       "</div>"
      ],
      "text/plain": [
       "    id_cliente  idade  saldo_atual  divida_atual   renda_anual  \\\n",
       "0         1767     21   278.172008       2577.05  24196.896360   \n",
       "1        11920     40   268.874152       2465.39  19227.377960   \n",
       "2         8910     36   446.643127       1055.29  42822.282230   \n",
       "3         4964     58   321.141267        703.05  51786.826000   \n",
       "4        10100     35   428.716114        891.29  44626.853460   \n",
       "..         ...    ...          ...           ...           ...   \n",
       "95        6389     42   264.484826       2582.60  41914.428500   \n",
       "96        4784     46   389.229037        707.15  28367.048325   \n",
       "97        9277     30   356.205725         93.73  51526.942250   \n",
       "98       10829     34   417.359874       1465.87  39316.599350   \n",
       "99        4061     24   309.794687       1316.19  40461.234100   \n",
       "\n",
       "    valor_em_investimentos  taxa_utilizacao_credito  num_emprestimos  \\\n",
       "0               104.306544                31.038763                6   \n",
       "1                69.858778                36.917093                5   \n",
       "2               134.201478                34.561714                0   \n",
       "3               297.350067                31.493561                0   \n",
       "4               134.201478                28.028887                2   \n",
       "..                     ...                      ...              ...   \n",
       "95              204.674536                40.053240                5   \n",
       "96               50.346588                40.282555                0   \n",
       "97              172.542043                29.139873              100   \n",
       "98              101.155542                24.465018                0   \n",
       "99               33.183702                30.156865                7   \n",
       "\n",
       "    num_contas_bancarias  num_cartoes_credito  dias_atraso_dt_venc  \\\n",
       "0                      5                    7                   21   \n",
       "1                      8                    5                   40   \n",
       "2                      3                    6                   26   \n",
       "3                      3                    7                   12   \n",
       "4                      8                    7                   24   \n",
       "..                   ...                  ...                  ...   \n",
       "95                     8                    9                   57   \n",
       "96                     0                    2                   15   \n",
       "97                     1                    5                   12   \n",
       "98                     6                    3                   21   \n",
       "99                     4                    4                   13   \n",
       "\n",
       "    num_pgtos_atrasados  num_consultas_credito  taxa_juros investe_exterior  \\\n",
       "0                    14                      9          15              Não   \n",
       "1                    23                     10          18              Não   \n",
       "2                    13                      3          15              Sim   \n",
       "3                     7                      2           1              Sim   \n",
       "4                    10                      8          20              Sim   \n",
       "..                  ...                    ...         ...              ...   \n",
       "95                   21                      6          26              Não   \n",
       "96                    6                      0        4989              Não   \n",
       "97                    7                      2           5              Sim   \n",
       "98                    9                      4           5              Não   \n",
       "99                   23                      5           6              Não   \n",
       "\n",
       "   pessoa_polit_exp limite_adicional  \n",
       "0               Não            Negar  \n",
       "1               Não            Negar  \n",
       "2               Não            Negar  \n",
       "3               Não            Negar  \n",
       "4               Não            Negar  \n",
       "..              ...              ...  \n",
       "95              Não            Negar  \n",
       "96              Não         Conceder  \n",
       "97              Não            Negar  \n",
       "98              Não            Negar  \n",
       "99              Não            Negar  \n",
       "\n",
       "[100 rows x 17 columns]"
      ]
     },
     "execution_count": 7,
     "metadata": {},
     "output_type": "execute_result"
    }
   ],
   "source": [
    "df = df_root.copy()\n",
    "df.head(100)"
   ]
  },
  {
   "cell_type": "markdown",
   "id": "5f008a4b-25c5-4b6f-b8f5-b941f413f3be",
   "metadata": {},
   "source": [
    "### 1.2 - Checando os tipos da coluna \"limite_adicional\"\n",
    "\n",
    "A coluna a coluna \"limite adicional\" será nosso principal label, é nas outras features que vamos utilizar o treinamento KNN para que ela seja a label prevista."
   ]
  },
  {
   "cell_type": "code",
   "execution_count": 12,
   "id": "9bd3460d-2f51-4fa4-8624-aa71f934a85a",
   "metadata": {
    "tags": []
   },
   "outputs": [
    {
     "data": {
      "text/plain": [
       "array(['Negar', 'Conceder'], dtype=object)"
      ]
     },
     "execution_count": 12,
     "metadata": {},
     "output_type": "execute_result"
    }
   ],
   "source": [
    "df.loc[:, 'limite_adicional'].unique()"
   ]
  },
  {
   "cell_type": "markdown",
   "id": "087eb6f7-e135-4952-ac64-b7f1e23345a1",
   "metadata": {},
   "source": [
    "A porcentagem de Negar e Conceder da nossa medida de interesse \"limite_adicional\":"
   ]
  },
  {
   "cell_type": "code",
   "execution_count": 14,
   "id": "a32b02a5-ad13-41b5-8d15-1c4401f8d4a1",
   "metadata": {
    "tags": []
   },
   "outputs": [
    {
     "data": {
      "text/plain": [
       "Negar       0.841579\n",
       "Conceder    0.158421\n",
       "Name: limite_adicional, dtype: float64"
      ]
     },
     "execution_count": 14,
     "metadata": {},
     "output_type": "execute_result"
    }
   ],
   "source": [
    "df.loc[:, 'limite_adicional'].value_counts(normalize = True)"
   ]
  },
  {
   "cell_type": "markdown",
   "id": "598ad691-af50-42a9-8ebb-7f4ecfdfe4ab",
   "metadata": {},
   "source": [
    "# 2.0 - Seleção de Features\n",
    "\n",
    "Existem features de interesse na nossa base de dados."
   ]
  },
  {
   "cell_type": "code",
   "execution_count": 16,
   "id": "4afd501a-a5e0-4a74-80e6-a5a5c729192d",
   "metadata": {
    "tags": []
   },
   "outputs": [
    {
     "data": {
      "text/plain": [
       "Index(['id_cliente', 'idade', 'saldo_atual', 'divida_atual', 'renda_anual',\n",
       "       'valor_em_investimentos', 'taxa_utilizacao_credito', 'num_emprestimos',\n",
       "       'num_contas_bancarias', 'num_cartoes_credito', 'dias_atraso_dt_venc',\n",
       "       'num_pgtos_atrasados', 'num_consultas_credito', 'taxa_juros',\n",
       "       'investe_exterior', 'pessoa_polit_exp', 'limite_adicional'],\n",
       "      dtype='object')"
      ]
     },
     "execution_count": 16,
     "metadata": {},
     "output_type": "execute_result"
    }
   ],
   "source": [
    "df.columns"
   ]
  },
  {
   "cell_type": "code",
   "execution_count": 18,
   "id": "19a7feee-77c1-4d97-8b7b-fe1cf2184cb7",
   "metadata": {
    "tags": []
   },
   "outputs": [],
   "source": [
    "label = 'limite_adicional'\n",
    "features = ['idade', 'saldo_atual', 'divida_atual', 'renda_anual',\n",
    "       'valor_em_investimentos', 'taxa_utilizacao_credito', 'num_emprestimos',\n",
    "       'num_contas_bancarias', 'num_cartoes_credito', 'dias_atraso_dt_venc',\n",
    "       'num_pgtos_atrasados', 'num_consultas_credito', 'taxa_juros']\n",
    "\n",
    "x_train = df.loc[:, features] # Informações de treino com features\n",
    "y_train = df.loc[:, label].values.ravel() # Informações do estado original da label"
   ]
  },
  {
   "cell_type": "markdown",
   "id": "bb15ef31-bef9-418d-94b1-d64e7cac89aa",
   "metadata": {},
   "source": [
    "## 3.0 - Treinamento"
   ]
  },
  {
   "cell_type": "code",
   "execution_count": 27,
   "id": "7bc3faf5-419b-45c1-ae41-bedb88036502",
   "metadata": {
    "tags": []
   },
   "outputs": [
    {
     "data": {
      "text/html": [
       "<style>#sk-container-id-1 {color: black;}#sk-container-id-1 pre{padding: 0;}#sk-container-id-1 div.sk-toggleable {background-color: white;}#sk-container-id-1 label.sk-toggleable__label {cursor: pointer;display: block;width: 100%;margin-bottom: 0;padding: 0.3em;box-sizing: border-box;text-align: center;}#sk-container-id-1 label.sk-toggleable__label-arrow:before {content: \"▸\";float: left;margin-right: 0.25em;color: #696969;}#sk-container-id-1 label.sk-toggleable__label-arrow:hover:before {color: black;}#sk-container-id-1 div.sk-estimator:hover label.sk-toggleable__label-arrow:before {color: black;}#sk-container-id-1 div.sk-toggleable__content {max-height: 0;max-width: 0;overflow: hidden;text-align: left;background-color: #f0f8ff;}#sk-container-id-1 div.sk-toggleable__content pre {margin: 0.2em;color: black;border-radius: 0.25em;background-color: #f0f8ff;}#sk-container-id-1 input.sk-toggleable__control:checked~div.sk-toggleable__content {max-height: 200px;max-width: 100%;overflow: auto;}#sk-container-id-1 input.sk-toggleable__control:checked~label.sk-toggleable__label-arrow:before {content: \"▾\";}#sk-container-id-1 div.sk-estimator input.sk-toggleable__control:checked~label.sk-toggleable__label {background-color: #d4ebff;}#sk-container-id-1 div.sk-label input.sk-toggleable__control:checked~label.sk-toggleable__label {background-color: #d4ebff;}#sk-container-id-1 input.sk-hidden--visually {border: 0;clip: rect(1px 1px 1px 1px);clip: rect(1px, 1px, 1px, 1px);height: 1px;margin: -1px;overflow: hidden;padding: 0;position: absolute;width: 1px;}#sk-container-id-1 div.sk-estimator {font-family: monospace;background-color: #f0f8ff;border: 1px dotted black;border-radius: 0.25em;box-sizing: border-box;margin-bottom: 0.5em;}#sk-container-id-1 div.sk-estimator:hover {background-color: #d4ebff;}#sk-container-id-1 div.sk-parallel-item::after {content: \"\";width: 100%;border-bottom: 1px solid gray;flex-grow: 1;}#sk-container-id-1 div.sk-label:hover label.sk-toggleable__label {background-color: #d4ebff;}#sk-container-id-1 div.sk-serial::before {content: \"\";position: absolute;border-left: 1px solid gray;box-sizing: border-box;top: 0;bottom: 0;left: 50%;z-index: 0;}#sk-container-id-1 div.sk-serial {display: flex;flex-direction: column;align-items: center;background-color: white;padding-right: 0.2em;padding-left: 0.2em;position: relative;}#sk-container-id-1 div.sk-item {position: relative;z-index: 1;}#sk-container-id-1 div.sk-parallel {display: flex;align-items: stretch;justify-content: center;background-color: white;position: relative;}#sk-container-id-1 div.sk-item::before, #sk-container-id-1 div.sk-parallel-item::before {content: \"\";position: absolute;border-left: 1px solid gray;box-sizing: border-box;top: 0;bottom: 0;left: 50%;z-index: -1;}#sk-container-id-1 div.sk-parallel-item {display: flex;flex-direction: column;z-index: 1;position: relative;background-color: white;}#sk-container-id-1 div.sk-parallel-item:first-child::after {align-self: flex-end;width: 50%;}#sk-container-id-1 div.sk-parallel-item:last-child::after {align-self: flex-start;width: 50%;}#sk-container-id-1 div.sk-parallel-item:only-child::after {width: 0;}#sk-container-id-1 div.sk-dashed-wrapped {border: 1px dashed gray;margin: 0 0.4em 0.5em 0.4em;box-sizing: border-box;padding-bottom: 0.4em;background-color: white;}#sk-container-id-1 div.sk-label label {font-family: monospace;font-weight: bold;display: inline-block;line-height: 1.2em;}#sk-container-id-1 div.sk-label-container {text-align: center;}#sk-container-id-1 div.sk-container {/* jupyter's `normalize.less` sets `[hidden] { display: none; }` but bootstrap.min.css set `[hidden] { display: none !important; }` so we also need the `!important` here to be able to override the default hidden behavior on the sphinx rendered scikit-learn.org. See: https://github.com/scikit-learn/scikit-learn/issues/21755 */display: inline-block !important;position: relative;}#sk-container-id-1 div.sk-text-repr-fallback {display: none;}</style><div id=\"sk-container-id-1\" class=\"sk-top-container\"><div class=\"sk-text-repr-fallback\"><pre>KNeighborsClassifier(n_neighbors=7)</pre><b>In a Jupyter environment, please rerun this cell to show the HTML representation or trust the notebook. <br />On GitHub, the HTML representation is unable to render, please try loading this page with nbviewer.org.</b></div><div class=\"sk-container\" hidden><div class=\"sk-item\"><div class=\"sk-estimator sk-toggleable\"><input class=\"sk-toggleable__control sk-hidden--visually\" id=\"sk-estimator-id-1\" type=\"checkbox\" checked><label for=\"sk-estimator-id-1\" class=\"sk-toggleable__label sk-toggleable__label-arrow\">KNeighborsClassifier</label><div class=\"sk-toggleable__content\"><pre>KNeighborsClassifier(n_neighbors=7)</pre></div></div></div></div></div>"
      ],
      "text/plain": [
       "KNeighborsClassifier(n_neighbors=7)"
      ]
     },
     "execution_count": 27,
     "metadata": {},
     "output_type": "execute_result"
    }
   ],
   "source": [
    "# Definição de parâmetros\n",
    "knn_classifier = KNeighborsClassifier( n_neighbors = 7 )\n",
    "\n",
    "# Treinando o algoritmo com informações já existentes\n",
    "knn_classifier.fit(x_train, y_train)"
   ]
  },
  {
   "cell_type": "markdown",
   "id": "a5d65eec-0d89-473e-8b52-83f9066a9991",
   "metadata": {},
   "source": [
    "Agora, depois do treinamento, vamos fazer uma previsão em cima do aprendizado do KNN:"
   ]
  },
  {
   "cell_type": "code",
   "execution_count": 28,
   "id": "643fccab-92f8-43cb-a4b5-8e8f3e587ac2",
   "metadata": {
    "tags": []
   },
   "outputs": [],
   "source": [
    "# Previsão das observações\n",
    "y_pred = knn_classifier.predict(x_train)"
   ]
  },
  {
   "cell_type": "code",
   "execution_count": 30,
   "id": "12f8461c-031c-42ad-9486-287ceb2e8ad1",
   "metadata": {
    "tags": []
   },
   "outputs": [],
   "source": [
    "# Comparação de Previsto com o Realizado\n",
    "df_result = df.loc[:, ['id_cliente', 'idade', 'limite_adicional']]\n",
    "df_result['predicted'] = y_pred"
   ]
  },
  {
   "cell_type": "code",
   "execution_count": 35,
   "id": "98d50182-d496-403d-b938-716e8b6086e6",
   "metadata": {
    "tags": []
   },
   "outputs": [
    {
     "data": {
      "text/html": [
       "<div>\n",
       "<style scoped>\n",
       "    .dataframe tbody tr th:only-of-type {\n",
       "        vertical-align: middle;\n",
       "    }\n",
       "\n",
       "    .dataframe tbody tr th {\n",
       "        vertical-align: top;\n",
       "    }\n",
       "\n",
       "    .dataframe thead th {\n",
       "        text-align: right;\n",
       "    }\n",
       "</style>\n",
       "<table border=\"1\" class=\"dataframe\">\n",
       "  <thead>\n",
       "    <tr style=\"text-align: right;\">\n",
       "      <th></th>\n",
       "      <th>id_cliente</th>\n",
       "      <th>idade</th>\n",
       "      <th>limite_adicional</th>\n",
       "      <th>predicted</th>\n",
       "    </tr>\n",
       "  </thead>\n",
       "  <tbody>\n",
       "    <tr>\n",
       "      <th>5212</th>\n",
       "      <td>7043</td>\n",
       "      <td>29</td>\n",
       "      <td>Negar</td>\n",
       "      <td>Conceder</td>\n",
       "    </tr>\n",
       "    <tr>\n",
       "      <th>3815</th>\n",
       "      <td>7477</td>\n",
       "      <td>1413</td>\n",
       "      <td>Negar</td>\n",
       "      <td>Negar</td>\n",
       "    </tr>\n",
       "    <tr>\n",
       "      <th>5836</th>\n",
       "      <td>2549</td>\n",
       "      <td>38</td>\n",
       "      <td>Negar</td>\n",
       "      <td>Negar</td>\n",
       "    </tr>\n",
       "    <tr>\n",
       "      <th>5343</th>\n",
       "      <td>1224</td>\n",
       "      <td>27</td>\n",
       "      <td>Negar</td>\n",
       "      <td>Negar</td>\n",
       "    </tr>\n",
       "    <tr>\n",
       "      <th>8581</th>\n",
       "      <td>3850</td>\n",
       "      <td>21</td>\n",
       "      <td>Negar</td>\n",
       "      <td>Negar</td>\n",
       "    </tr>\n",
       "    <tr>\n",
       "      <th>9150</th>\n",
       "      <td>9911</td>\n",
       "      <td>21</td>\n",
       "      <td>Negar</td>\n",
       "      <td>Negar</td>\n",
       "    </tr>\n",
       "    <tr>\n",
       "      <th>5510</th>\n",
       "      <td>8465</td>\n",
       "      <td>30</td>\n",
       "      <td>Negar</td>\n",
       "      <td>Negar</td>\n",
       "    </tr>\n",
       "    <tr>\n",
       "      <th>5541</th>\n",
       "      <td>11747</td>\n",
       "      <td>26</td>\n",
       "      <td>Negar</td>\n",
       "      <td>Negar</td>\n",
       "    </tr>\n",
       "    <tr>\n",
       "      <th>1263</th>\n",
       "      <td>5897</td>\n",
       "      <td>48</td>\n",
       "      <td>Negar</td>\n",
       "      <td>Negar</td>\n",
       "    </tr>\n",
       "    <tr>\n",
       "      <th>6989</th>\n",
       "      <td>4156</td>\n",
       "      <td>60</td>\n",
       "      <td>Conceder</td>\n",
       "      <td>Negar</td>\n",
       "    </tr>\n",
       "  </tbody>\n",
       "</table>\n",
       "</div>"
      ],
      "text/plain": [
       "      id_cliente  idade limite_adicional predicted\n",
       "5212        7043     29            Negar  Conceder\n",
       "3815        7477   1413            Negar     Negar\n",
       "5836        2549     38            Negar     Negar\n",
       "5343        1224     27            Negar     Negar\n",
       "8581        3850     21            Negar     Negar\n",
       "9150        9911     21            Negar     Negar\n",
       "5510        8465     30            Negar     Negar\n",
       "5541       11747     26            Negar     Negar\n",
       "1263        5897     48            Negar     Negar\n",
       "6989        4156     60         Conceder     Negar"
      ]
     },
     "execution_count": 35,
     "metadata": {},
     "output_type": "execute_result"
    }
   ],
   "source": [
    "# Obtendo resultados aleatórios com o método do pandas sample()\n",
    "df_result.sample(10)"
   ]
  },
  {
   "cell_type": "markdown",
   "id": "71dcab61-cc63-4929-aff9-b521cb3b9c2a",
   "metadata": {},
   "source": [
    "Como fizemos no começo, vamos agora normalizar a coluna \"y_pred\" para termos uma noção de como a nossa previsão se saiu em relação aos números originais:"
   ]
  },
  {
   "cell_type": "code",
   "execution_count": 36,
   "id": "01fe28ad-6a8d-4d40-a263-5a87cdf2756c",
   "metadata": {
    "tags": []
   },
   "outputs": [
    {
     "data": {
      "text/plain": [
       "Negar       0.939789\n",
       "Conceder    0.060211\n",
       "Name: predicted, dtype: float64"
      ]
     },
     "execution_count": 36,
     "metadata": {},
     "output_type": "execute_result"
    }
   ],
   "source": [
    "df_result.loc[:, 'predicted'].value_counts(normalize = True)"
   ]
  },
  {
   "cell_type": "code",
   "execution_count": 37,
   "id": "cbb6b779-2934-422d-8a6f-b26e769e1e86",
   "metadata": {
    "tags": []
   },
   "outputs": [],
   "source": [
    "# Aplicando função para criar uma nova coluna com a comparação entre o real e a previsão\n",
    "df_result['acertos'] = (df_result.loc[:, ['id_cliente', 'limite_adicional', 'predicted']].apply(lambda x : 1 if x['limite_adicional'] == x['predicted'] else 0, axis = 1))"
   ]
  },
  {
   "cell_type": "code",
   "execution_count": 38,
   "id": "13701efa-e690-4747-bb9f-b19e3b9ac485",
   "metadata": {
    "tags": []
   },
   "outputs": [
    {
     "data": {
      "text/html": [
       "<div>\n",
       "<style scoped>\n",
       "    .dataframe tbody tr th:only-of-type {\n",
       "        vertical-align: middle;\n",
       "    }\n",
       "\n",
       "    .dataframe tbody tr th {\n",
       "        vertical-align: top;\n",
       "    }\n",
       "\n",
       "    .dataframe thead th {\n",
       "        text-align: right;\n",
       "    }\n",
       "</style>\n",
       "<table border=\"1\" class=\"dataframe\">\n",
       "  <thead>\n",
       "    <tr style=\"text-align: right;\">\n",
       "      <th></th>\n",
       "      <th>id_cliente</th>\n",
       "      <th>idade</th>\n",
       "      <th>limite_adicional</th>\n",
       "      <th>predicted</th>\n",
       "      <th>acertos</th>\n",
       "    </tr>\n",
       "  </thead>\n",
       "  <tbody>\n",
       "    <tr>\n",
       "      <th>0</th>\n",
       "      <td>1767</td>\n",
       "      <td>21</td>\n",
       "      <td>Negar</td>\n",
       "      <td>Negar</td>\n",
       "      <td>1</td>\n",
       "    </tr>\n",
       "    <tr>\n",
       "      <th>1</th>\n",
       "      <td>11920</td>\n",
       "      <td>40</td>\n",
       "      <td>Negar</td>\n",
       "      <td>Negar</td>\n",
       "      <td>1</td>\n",
       "    </tr>\n",
       "    <tr>\n",
       "      <th>2</th>\n",
       "      <td>8910</td>\n",
       "      <td>36</td>\n",
       "      <td>Negar</td>\n",
       "      <td>Negar</td>\n",
       "      <td>1</td>\n",
       "    </tr>\n",
       "    <tr>\n",
       "      <th>3</th>\n",
       "      <td>4964</td>\n",
       "      <td>58</td>\n",
       "      <td>Negar</td>\n",
       "      <td>Negar</td>\n",
       "      <td>1</td>\n",
       "    </tr>\n",
       "    <tr>\n",
       "      <th>4</th>\n",
       "      <td>10100</td>\n",
       "      <td>35</td>\n",
       "      <td>Negar</td>\n",
       "      <td>Negar</td>\n",
       "      <td>1</td>\n",
       "    </tr>\n",
       "    <tr>\n",
       "      <th>...</th>\n",
       "      <td>...</td>\n",
       "      <td>...</td>\n",
       "      <td>...</td>\n",
       "      <td>...</td>\n",
       "      <td>...</td>\n",
       "    </tr>\n",
       "    <tr>\n",
       "      <th>9495</th>\n",
       "      <td>5155</td>\n",
       "      <td>29</td>\n",
       "      <td>Negar</td>\n",
       "      <td>Negar</td>\n",
       "      <td>1</td>\n",
       "    </tr>\n",
       "    <tr>\n",
       "      <th>9496</th>\n",
       "      <td>11977</td>\n",
       "      <td>1237</td>\n",
       "      <td>Negar</td>\n",
       "      <td>Negar</td>\n",
       "      <td>1</td>\n",
       "    </tr>\n",
       "    <tr>\n",
       "      <th>9497</th>\n",
       "      <td>9278</td>\n",
       "      <td>47</td>\n",
       "      <td>Negar</td>\n",
       "      <td>Negar</td>\n",
       "      <td>1</td>\n",
       "    </tr>\n",
       "    <tr>\n",
       "      <th>9498</th>\n",
       "      <td>2525</td>\n",
       "      <td>42</td>\n",
       "      <td>Negar</td>\n",
       "      <td>Negar</td>\n",
       "      <td>1</td>\n",
       "    </tr>\n",
       "    <tr>\n",
       "      <th>9499</th>\n",
       "      <td>9636</td>\n",
       "      <td>35</td>\n",
       "      <td>Negar</td>\n",
       "      <td>Negar</td>\n",
       "      <td>1</td>\n",
       "    </tr>\n",
       "  </tbody>\n",
       "</table>\n",
       "<p>9500 rows × 5 columns</p>\n",
       "</div>"
      ],
      "text/plain": [
       "      id_cliente  idade limite_adicional predicted  acertos\n",
       "0           1767     21            Negar     Negar        1\n",
       "1          11920     40            Negar     Negar        1\n",
       "2           8910     36            Negar     Negar        1\n",
       "3           4964     58            Negar     Negar        1\n",
       "4          10100     35            Negar     Negar        1\n",
       "...          ...    ...              ...       ...      ...\n",
       "9495        5155     29            Negar     Negar        1\n",
       "9496       11977   1237            Negar     Negar        1\n",
       "9497        9278     47            Negar     Negar        1\n",
       "9498        2525     42            Negar     Negar        1\n",
       "9499        9636     35            Negar     Negar        1\n",
       "\n",
       "[9500 rows x 5 columns]"
      ]
     },
     "execution_count": 38,
     "metadata": {},
     "output_type": "execute_result"
    }
   ],
   "source": [
    "df_result"
   ]
  },
  {
   "cell_type": "markdown",
   "id": "e7ab6180-8129-4b42-a65f-941e1b1890ac",
   "metadata": {},
   "source": [
    "## 4.0 -  Métricas "
   ]
  },
  {
   "cell_type": "markdown",
   "id": "1022b0a9-04fd-4e2b-8285-f241b287c8fc",
   "metadata": {
    "tags": []
   },
   "source": [
    "Matrix de confusão"
   ]
  },
  {
   "cell_type": "code",
   "execution_count": 40,
   "id": "4aa7a3c8-4436-4709-9ba5-587648aa57d9",
   "metadata": {
    "tags": []
   },
   "outputs": [
    {
     "data": {
      "text/plain": [
       "array([[ 369, 1136],\n",
       "       [ 203, 7792]], dtype=int64)"
      ]
     },
     "execution_count": 40,
     "metadata": {},
     "output_type": "execute_result"
    }
   ],
   "source": [
    "mt.confusion_matrix(y_train, y_pred)"
   ]
  },
  {
   "cell_type": "markdown",
   "id": "333049cc-d3fd-48e7-818c-3a8d0c700ad8",
   "metadata": {},
   "source": [
    "Acurácia"
   ]
  },
  {
   "cell_type": "code",
   "execution_count": 42,
   "id": "346d786a-3447-48a7-bc9b-e0f94a8f008e",
   "metadata": {
    "tags": []
   },
   "outputs": [
    {
     "data": {
      "text/plain": [
       "0.8590526315789474"
      ]
     },
     "execution_count": 42,
     "metadata": {},
     "output_type": "execute_result"
    }
   ],
   "source": [
    "mt.accuracy_score(y_train, y_pred)"
   ]
  },
  {
   "cell_type": "markdown",
   "id": "efdfc59f-adee-4229-93ba-3d737ef9846a",
   "metadata": {},
   "source": [
    "Precisão"
   ]
  },
  {
   "cell_type": "code",
   "execution_count": 44,
   "id": "b797ee98-dc0d-40d5-9057-0f79979616cf",
   "metadata": {
    "tags": []
   },
   "outputs": [
    {
     "data": {
      "text/plain": [
       "0.6451048951048951"
      ]
     },
     "execution_count": 44,
     "metadata": {},
     "output_type": "execute_result"
    }
   ],
   "source": [
    "mt.precision_score(y_train, y_pred, pos_label=\"Conceder\")"
   ]
  },
  {
   "cell_type": "markdown",
   "id": "ad0efc2e-b720-4a88-a80c-c5e710c6e37c",
   "metadata": {},
   "source": [
    "Acurácia"
   ]
  },
  {
   "cell_type": "code",
   "execution_count": 46,
   "id": "8210a555-44b9-4fcb-87ed-3952bd31317f",
   "metadata": {
    "tags": []
   },
   "outputs": [
    {
     "data": {
      "text/plain": [
       "0.24518272425249169"
      ]
     },
     "execution_count": 46,
     "metadata": {},
     "output_type": "execute_result"
    }
   ],
   "source": [
    "mt.recall_score(y_train, y_pred, pos_label=\"Conceder\")"
   ]
  },
  {
   "cell_type": "markdown",
   "id": "2ca1890a-fbc4-4487-9d80-00504a04d75d",
   "metadata": {},
   "source": [
    "## 5.0 - Treinando KNN com diferentes casas de distância"
   ]
  },
  {
   "cell_type": "markdown",
   "id": "9a5d8553-3a1e-433f-940a-a50f17dc9a2c",
   "metadata": {},
   "source": [
    "Retreino o algoritmo com os seguintes valores para K: [3, 5, 7, 9, 11, 13,\n",
    "15, 17, 19 e 21] e anote a acurácia."
   ]
  },
  {
   "cell_type": "code",
   "execution_count": 49,
   "id": "3675182b-bbec-475a-9cec-b12df7594fee",
   "metadata": {
    "tags": []
   },
   "outputs": [
    {
     "data": {
      "text/html": [
       "<style>#sk-container-id-2 {color: black;}#sk-container-id-2 pre{padding: 0;}#sk-container-id-2 div.sk-toggleable {background-color: white;}#sk-container-id-2 label.sk-toggleable__label {cursor: pointer;display: block;width: 100%;margin-bottom: 0;padding: 0.3em;box-sizing: border-box;text-align: center;}#sk-container-id-2 label.sk-toggleable__label-arrow:before {content: \"▸\";float: left;margin-right: 0.25em;color: #696969;}#sk-container-id-2 label.sk-toggleable__label-arrow:hover:before {color: black;}#sk-container-id-2 div.sk-estimator:hover label.sk-toggleable__label-arrow:before {color: black;}#sk-container-id-2 div.sk-toggleable__content {max-height: 0;max-width: 0;overflow: hidden;text-align: left;background-color: #f0f8ff;}#sk-container-id-2 div.sk-toggleable__content pre {margin: 0.2em;color: black;border-radius: 0.25em;background-color: #f0f8ff;}#sk-container-id-2 input.sk-toggleable__control:checked~div.sk-toggleable__content {max-height: 200px;max-width: 100%;overflow: auto;}#sk-container-id-2 input.sk-toggleable__control:checked~label.sk-toggleable__label-arrow:before {content: \"▾\";}#sk-container-id-2 div.sk-estimator input.sk-toggleable__control:checked~label.sk-toggleable__label {background-color: #d4ebff;}#sk-container-id-2 div.sk-label input.sk-toggleable__control:checked~label.sk-toggleable__label {background-color: #d4ebff;}#sk-container-id-2 input.sk-hidden--visually {border: 0;clip: rect(1px 1px 1px 1px);clip: rect(1px, 1px, 1px, 1px);height: 1px;margin: -1px;overflow: hidden;padding: 0;position: absolute;width: 1px;}#sk-container-id-2 div.sk-estimator {font-family: monospace;background-color: #f0f8ff;border: 1px dotted black;border-radius: 0.25em;box-sizing: border-box;margin-bottom: 0.5em;}#sk-container-id-2 div.sk-estimator:hover {background-color: #d4ebff;}#sk-container-id-2 div.sk-parallel-item::after {content: \"\";width: 100%;border-bottom: 1px solid gray;flex-grow: 1;}#sk-container-id-2 div.sk-label:hover label.sk-toggleable__label {background-color: #d4ebff;}#sk-container-id-2 div.sk-serial::before {content: \"\";position: absolute;border-left: 1px solid gray;box-sizing: border-box;top: 0;bottom: 0;left: 50%;z-index: 0;}#sk-container-id-2 div.sk-serial {display: flex;flex-direction: column;align-items: center;background-color: white;padding-right: 0.2em;padding-left: 0.2em;position: relative;}#sk-container-id-2 div.sk-item {position: relative;z-index: 1;}#sk-container-id-2 div.sk-parallel {display: flex;align-items: stretch;justify-content: center;background-color: white;position: relative;}#sk-container-id-2 div.sk-item::before, #sk-container-id-2 div.sk-parallel-item::before {content: \"\";position: absolute;border-left: 1px solid gray;box-sizing: border-box;top: 0;bottom: 0;left: 50%;z-index: -1;}#sk-container-id-2 div.sk-parallel-item {display: flex;flex-direction: column;z-index: 1;position: relative;background-color: white;}#sk-container-id-2 div.sk-parallel-item:first-child::after {align-self: flex-end;width: 50%;}#sk-container-id-2 div.sk-parallel-item:last-child::after {align-self: flex-start;width: 50%;}#sk-container-id-2 div.sk-parallel-item:only-child::after {width: 0;}#sk-container-id-2 div.sk-dashed-wrapped {border: 1px dashed gray;margin: 0 0.4em 0.5em 0.4em;box-sizing: border-box;padding-bottom: 0.4em;background-color: white;}#sk-container-id-2 div.sk-label label {font-family: monospace;font-weight: bold;display: inline-block;line-height: 1.2em;}#sk-container-id-2 div.sk-label-container {text-align: center;}#sk-container-id-2 div.sk-container {/* jupyter's `normalize.less` sets `[hidden] { display: none; }` but bootstrap.min.css set `[hidden] { display: none !important; }` so we also need the `!important` here to be able to override the default hidden behavior on the sphinx rendered scikit-learn.org. See: https://github.com/scikit-learn/scikit-learn/issues/21755 */display: inline-block !important;position: relative;}#sk-container-id-2 div.sk-text-repr-fallback {display: none;}</style><div id=\"sk-container-id-2\" class=\"sk-top-container\"><div class=\"sk-text-repr-fallback\"><pre>KNeighborsClassifier(n_neighbors=3)</pre><b>In a Jupyter environment, please rerun this cell to show the HTML representation or trust the notebook. <br />On GitHub, the HTML representation is unable to render, please try loading this page with nbviewer.org.</b></div><div class=\"sk-container\" hidden><div class=\"sk-item\"><div class=\"sk-estimator sk-toggleable\"><input class=\"sk-toggleable__control sk-hidden--visually\" id=\"sk-estimator-id-2\" type=\"checkbox\" checked><label for=\"sk-estimator-id-2\" class=\"sk-toggleable__label sk-toggleable__label-arrow\">KNeighborsClassifier</label><div class=\"sk-toggleable__content\"><pre>KNeighborsClassifier(n_neighbors=3)</pre></div></div></div></div></div>"
      ],
      "text/plain": [
       "KNeighborsClassifier(n_neighbors=3)"
      ]
     },
     "execution_count": 49,
     "metadata": {},
     "output_type": "execute_result"
    }
   ],
   "source": [
    "knn_classifier3 = KNeighborsClassifier( n_neighbors = 3 )\n",
    "\n",
    "knn_classifier3.fit(x_train, y_train)"
   ]
  },
  {
   "cell_type": "code",
   "execution_count": 51,
   "id": "4011a1f9-bc5f-4e81-8999-163b43473c2b",
   "metadata": {
    "tags": []
   },
   "outputs": [],
   "source": [
    "y_pred3 = knn_classifier3.predict(x_train)"
   ]
  },
  {
   "cell_type": "code",
   "execution_count": 56,
   "id": "8bbeae9d-0575-4b5b-b1d4-cdb3605a8c0f",
   "metadata": {
    "tags": []
   },
   "outputs": [],
   "source": [
    "df_result3 = df.loc[:, ['id_cliente', 'idade', 'limite_adicional']]\n",
    "df_result3['predicted'] = y_pred3"
   ]
  },
  {
   "cell_type": "markdown",
   "id": "70c6fa8f-0cf5-44eb-aa2f-ed762d2b2269",
   "metadata": {},
   "source": [
    "Acurácia do KNN com 3 casas:"
   ]
  },
  {
   "cell_type": "code",
   "execution_count": 57,
   "id": "5dbc42e3-6c33-4b77-909c-72a333267456",
   "metadata": {
    "tags": []
   },
   "outputs": [
    {
     "data": {
      "text/plain": [
       "0.8590526315789474"
      ]
     },
     "execution_count": 57,
     "metadata": {},
     "output_type": "execute_result"
    }
   ],
   "source": [
    "mt.accuracy_score(y_train, y_pred)"
   ]
  },
  {
   "cell_type": "code",
   "execution_count": null,
   "id": "cd6f2a41-251b-4fe5-8fc1-86102415bfe4",
   "metadata": {},
   "outputs": [],
   "source": []
  }
 ],
 "metadata": {
  "kernelspec": {
   "display_name": "Python 3 (ipykernel)",
   "language": "python",
   "name": "python3"
  },
  "language_info": {
   "codemirror_mode": {
    "name": "ipython",
    "version": 3
   },
   "file_extension": ".py",
   "mimetype": "text/x-python",
   "name": "python",
   "nbconvert_exporter": "python",
   "pygments_lexer": "ipython3",
   "version": "3.10.9"
  }
 },
 "nbformat": 4,
 "nbformat_minor": 5
}
