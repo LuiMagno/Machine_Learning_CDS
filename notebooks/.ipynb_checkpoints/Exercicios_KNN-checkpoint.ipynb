{
 "cells": [
  {
   "cell_type": "markdown",
   "id": "e11c23a3-e101-484a-85ee-a231c2d9dc52",
   "metadata": {},
   "source": [
    "# Ciclo 02 - Exercícios de fim de Ciclo - KNN"
   ]
  },
  {
   "cell_type": "markdown",
   "id": "39f5d98c-a0f3-43ff-82ea-c9b9adaf6c52",
   "metadata": {},
   "source": [
    "## 1.0 - Importando libraries"
   ]
  },
  {
   "cell_type": "code",
   "execution_count": 1,
   "id": "bed9134e-be2a-474b-8ab5-16de891cae6e",
   "metadata": {
    "tags": []
   },
   "outputs": [],
   "source": [
    "import pandas as pd\n",
    "from sklearn.neighbors import KNeighborsClassifier\n",
    "from sklearn import metrics as mt"
   ]
  },
  {
   "cell_type": "markdown",
   "id": "2762bbec-7595-4d2e-ac2c-af388236005a",
   "metadata": {},
   "source": [
    "### 1.1 - Load Dataset"
   ]
  },
  {
   "cell_type": "code",
   "execution_count": 2,
   "id": "db2d0055-797c-447f-aa04-b6670063687c",
   "metadata": {
    "tags": []
   },
   "outputs": [],
   "source": [
    "path = \"../dataset/train.csv\"\n",
    "\n",
    "df_root = pd.read_csv(path)"
   ]
  },
  {
   "cell_type": "code",
   "execution_count": 3,
   "id": "3770ef7b-15d1-4045-9d88-8310b6f999eb",
   "metadata": {
    "tags": []
   },
   "outputs": [
    {
     "data": {
      "text/html": [
       "<div>\n",
       "<style scoped>\n",
       "    .dataframe tbody tr th:only-of-type {\n",
       "        vertical-align: middle;\n",
       "    }\n",
       "\n",
       "    .dataframe tbody tr th {\n",
       "        vertical-align: top;\n",
       "    }\n",
       "\n",
       "    .dataframe thead th {\n",
       "        text-align: right;\n",
       "    }\n",
       "</style>\n",
       "<table border=\"1\" class=\"dataframe\">\n",
       "  <thead>\n",
       "    <tr style=\"text-align: right;\">\n",
       "      <th></th>\n",
       "      <th>id_cliente</th>\n",
       "      <th>idade</th>\n",
       "      <th>saldo_atual</th>\n",
       "      <th>divida_atual</th>\n",
       "      <th>renda_anual</th>\n",
       "      <th>valor_em_investimentos</th>\n",
       "      <th>taxa_utilizacao_credito</th>\n",
       "      <th>num_emprestimos</th>\n",
       "      <th>num_contas_bancarias</th>\n",
       "      <th>num_cartoes_credito</th>\n",
       "      <th>dias_atraso_dt_venc</th>\n",
       "      <th>num_pgtos_atrasados</th>\n",
       "      <th>num_consultas_credito</th>\n",
       "      <th>taxa_juros</th>\n",
       "      <th>investe_exterior</th>\n",
       "      <th>pessoa_polit_exp</th>\n",
       "      <th>limite_adicional</th>\n",
       "    </tr>\n",
       "  </thead>\n",
       "  <tbody>\n",
       "    <tr>\n",
       "      <th>0</th>\n",
       "      <td>1767</td>\n",
       "      <td>21</td>\n",
       "      <td>278.172008</td>\n",
       "      <td>2577.05</td>\n",
       "      <td>24196.896360</td>\n",
       "      <td>104.306544</td>\n",
       "      <td>31.038763</td>\n",
       "      <td>6</td>\n",
       "      <td>5</td>\n",
       "      <td>7</td>\n",
       "      <td>21</td>\n",
       "      <td>14</td>\n",
       "      <td>9</td>\n",
       "      <td>15</td>\n",
       "      <td>Não</td>\n",
       "      <td>Não</td>\n",
       "      <td>Negar</td>\n",
       "    </tr>\n",
       "    <tr>\n",
       "      <th>1</th>\n",
       "      <td>11920</td>\n",
       "      <td>40</td>\n",
       "      <td>268.874152</td>\n",
       "      <td>2465.39</td>\n",
       "      <td>19227.377960</td>\n",
       "      <td>69.858778</td>\n",
       "      <td>36.917093</td>\n",
       "      <td>5</td>\n",
       "      <td>8</td>\n",
       "      <td>5</td>\n",
       "      <td>40</td>\n",
       "      <td>23</td>\n",
       "      <td>10</td>\n",
       "      <td>18</td>\n",
       "      <td>Não</td>\n",
       "      <td>Não</td>\n",
       "      <td>Negar</td>\n",
       "    </tr>\n",
       "    <tr>\n",
       "      <th>2</th>\n",
       "      <td>8910</td>\n",
       "      <td>36</td>\n",
       "      <td>446.643127</td>\n",
       "      <td>1055.29</td>\n",
       "      <td>42822.282230</td>\n",
       "      <td>134.201478</td>\n",
       "      <td>34.561714</td>\n",
       "      <td>0</td>\n",
       "      <td>3</td>\n",
       "      <td>6</td>\n",
       "      <td>26</td>\n",
       "      <td>13</td>\n",
       "      <td>3</td>\n",
       "      <td>15</td>\n",
       "      <td>Sim</td>\n",
       "      <td>Não</td>\n",
       "      <td>Negar</td>\n",
       "    </tr>\n",
       "    <tr>\n",
       "      <th>3</th>\n",
       "      <td>4964</td>\n",
       "      <td>58</td>\n",
       "      <td>321.141267</td>\n",
       "      <td>703.05</td>\n",
       "      <td>51786.826000</td>\n",
       "      <td>297.350067</td>\n",
       "      <td>31.493561</td>\n",
       "      <td>0</td>\n",
       "      <td>3</td>\n",
       "      <td>7</td>\n",
       "      <td>12</td>\n",
       "      <td>7</td>\n",
       "      <td>2</td>\n",
       "      <td>1</td>\n",
       "      <td>Sim</td>\n",
       "      <td>Não</td>\n",
       "      <td>Negar</td>\n",
       "    </tr>\n",
       "    <tr>\n",
       "      <th>4</th>\n",
       "      <td>10100</td>\n",
       "      <td>35</td>\n",
       "      <td>428.716114</td>\n",
       "      <td>891.29</td>\n",
       "      <td>44626.853460</td>\n",
       "      <td>134.201478</td>\n",
       "      <td>28.028887</td>\n",
       "      <td>2</td>\n",
       "      <td>8</td>\n",
       "      <td>7</td>\n",
       "      <td>24</td>\n",
       "      <td>10</td>\n",
       "      <td>8</td>\n",
       "      <td>20</td>\n",
       "      <td>Sim</td>\n",
       "      <td>Não</td>\n",
       "      <td>Negar</td>\n",
       "    </tr>\n",
       "    <tr>\n",
       "      <th>...</th>\n",
       "      <td>...</td>\n",
       "      <td>...</td>\n",
       "      <td>...</td>\n",
       "      <td>...</td>\n",
       "      <td>...</td>\n",
       "      <td>...</td>\n",
       "      <td>...</td>\n",
       "      <td>...</td>\n",
       "      <td>...</td>\n",
       "      <td>...</td>\n",
       "      <td>...</td>\n",
       "      <td>...</td>\n",
       "      <td>...</td>\n",
       "      <td>...</td>\n",
       "      <td>...</td>\n",
       "      <td>...</td>\n",
       "      <td>...</td>\n",
       "    </tr>\n",
       "    <tr>\n",
       "      <th>95</th>\n",
       "      <td>6389</td>\n",
       "      <td>42</td>\n",
       "      <td>264.484826</td>\n",
       "      <td>2582.60</td>\n",
       "      <td>41914.428500</td>\n",
       "      <td>204.674536</td>\n",
       "      <td>40.053240</td>\n",
       "      <td>5</td>\n",
       "      <td>8</td>\n",
       "      <td>9</td>\n",
       "      <td>57</td>\n",
       "      <td>21</td>\n",
       "      <td>6</td>\n",
       "      <td>26</td>\n",
       "      <td>Não</td>\n",
       "      <td>Não</td>\n",
       "      <td>Negar</td>\n",
       "    </tr>\n",
       "    <tr>\n",
       "      <th>96</th>\n",
       "      <td>4784</td>\n",
       "      <td>46</td>\n",
       "      <td>389.229037</td>\n",
       "      <td>707.15</td>\n",
       "      <td>28367.048325</td>\n",
       "      <td>50.346588</td>\n",
       "      <td>40.282555</td>\n",
       "      <td>0</td>\n",
       "      <td>0</td>\n",
       "      <td>2</td>\n",
       "      <td>15</td>\n",
       "      <td>6</td>\n",
       "      <td>0</td>\n",
       "      <td>4989</td>\n",
       "      <td>Não</td>\n",
       "      <td>Não</td>\n",
       "      <td>Conceder</td>\n",
       "    </tr>\n",
       "    <tr>\n",
       "      <th>97</th>\n",
       "      <td>9277</td>\n",
       "      <td>30</td>\n",
       "      <td>356.205725</td>\n",
       "      <td>93.73</td>\n",
       "      <td>51526.942250</td>\n",
       "      <td>172.542043</td>\n",
       "      <td>29.139873</td>\n",
       "      <td>100</td>\n",
       "      <td>1</td>\n",
       "      <td>5</td>\n",
       "      <td>12</td>\n",
       "      <td>7</td>\n",
       "      <td>2</td>\n",
       "      <td>5</td>\n",
       "      <td>Sim</td>\n",
       "      <td>Não</td>\n",
       "      <td>Negar</td>\n",
       "    </tr>\n",
       "    <tr>\n",
       "      <th>98</th>\n",
       "      <td>10829</td>\n",
       "      <td>34</td>\n",
       "      <td>417.359874</td>\n",
       "      <td>1465.87</td>\n",
       "      <td>39316.599350</td>\n",
       "      <td>101.155542</td>\n",
       "      <td>24.465018</td>\n",
       "      <td>0</td>\n",
       "      <td>6</td>\n",
       "      <td>3</td>\n",
       "      <td>21</td>\n",
       "      <td>9</td>\n",
       "      <td>4</td>\n",
       "      <td>5</td>\n",
       "      <td>Não</td>\n",
       "      <td>Não</td>\n",
       "      <td>Negar</td>\n",
       "    </tr>\n",
       "    <tr>\n",
       "      <th>99</th>\n",
       "      <td>4061</td>\n",
       "      <td>24</td>\n",
       "      <td>309.794687</td>\n",
       "      <td>1316.19</td>\n",
       "      <td>40461.234100</td>\n",
       "      <td>33.183702</td>\n",
       "      <td>30.156865</td>\n",
       "      <td>7</td>\n",
       "      <td>4</td>\n",
       "      <td>4</td>\n",
       "      <td>13</td>\n",
       "      <td>23</td>\n",
       "      <td>5</td>\n",
       "      <td>6</td>\n",
       "      <td>Não</td>\n",
       "      <td>Não</td>\n",
       "      <td>Negar</td>\n",
       "    </tr>\n",
       "  </tbody>\n",
       "</table>\n",
       "<p>100 rows × 17 columns</p>\n",
       "</div>"
      ],
      "text/plain": [
       "    id_cliente  idade  saldo_atual  divida_atual   renda_anual  \\\n",
       "0         1767     21   278.172008       2577.05  24196.896360   \n",
       "1        11920     40   268.874152       2465.39  19227.377960   \n",
       "2         8910     36   446.643127       1055.29  42822.282230   \n",
       "3         4964     58   321.141267        703.05  51786.826000   \n",
       "4        10100     35   428.716114        891.29  44626.853460   \n",
       "..         ...    ...          ...           ...           ...   \n",
       "95        6389     42   264.484826       2582.60  41914.428500   \n",
       "96        4784     46   389.229037        707.15  28367.048325   \n",
       "97        9277     30   356.205725         93.73  51526.942250   \n",
       "98       10829     34   417.359874       1465.87  39316.599350   \n",
       "99        4061     24   309.794687       1316.19  40461.234100   \n",
       "\n",
       "    valor_em_investimentos  taxa_utilizacao_credito  num_emprestimos  \\\n",
       "0               104.306544                31.038763                6   \n",
       "1                69.858778                36.917093                5   \n",
       "2               134.201478                34.561714                0   \n",
       "3               297.350067                31.493561                0   \n",
       "4               134.201478                28.028887                2   \n",
       "..                     ...                      ...              ...   \n",
       "95              204.674536                40.053240                5   \n",
       "96               50.346588                40.282555                0   \n",
       "97              172.542043                29.139873              100   \n",
       "98              101.155542                24.465018                0   \n",
       "99               33.183702                30.156865                7   \n",
       "\n",
       "    num_contas_bancarias  num_cartoes_credito  dias_atraso_dt_venc  \\\n",
       "0                      5                    7                   21   \n",
       "1                      8                    5                   40   \n",
       "2                      3                    6                   26   \n",
       "3                      3                    7                   12   \n",
       "4                      8                    7                   24   \n",
       "..                   ...                  ...                  ...   \n",
       "95                     8                    9                   57   \n",
       "96                     0                    2                   15   \n",
       "97                     1                    5                   12   \n",
       "98                     6                    3                   21   \n",
       "99                     4                    4                   13   \n",
       "\n",
       "    num_pgtos_atrasados  num_consultas_credito  taxa_juros investe_exterior  \\\n",
       "0                    14                      9          15              Não   \n",
       "1                    23                     10          18              Não   \n",
       "2                    13                      3          15              Sim   \n",
       "3                     7                      2           1              Sim   \n",
       "4                    10                      8          20              Sim   \n",
       "..                  ...                    ...         ...              ...   \n",
       "95                   21                      6          26              Não   \n",
       "96                    6                      0        4989              Não   \n",
       "97                    7                      2           5              Sim   \n",
       "98                    9                      4           5              Não   \n",
       "99                   23                      5           6              Não   \n",
       "\n",
       "   pessoa_polit_exp limite_adicional  \n",
       "0               Não            Negar  \n",
       "1               Não            Negar  \n",
       "2               Não            Negar  \n",
       "3               Não            Negar  \n",
       "4               Não            Negar  \n",
       "..              ...              ...  \n",
       "95              Não            Negar  \n",
       "96              Não         Conceder  \n",
       "97              Não            Negar  \n",
       "98              Não            Negar  \n",
       "99              Não            Negar  \n",
       "\n",
       "[100 rows x 17 columns]"
      ]
     },
     "execution_count": 3,
     "metadata": {},
     "output_type": "execute_result"
    }
   ],
   "source": [
    "df = df_root.copy()\n",
    "df.head(100)"
   ]
  },
  {
   "cell_type": "markdown",
   "id": "5f008a4b-25c5-4b6f-b8f5-b941f413f3be",
   "metadata": {},
   "source": [
    "### 1.2 - Checando os tipos da coluna \"limite_adicional\"\n",
    "\n",
    "A coluna a coluna \"limite adicional\" será nosso principal label, é nas outras features que vamos utilizar o treinamento KNN para que ela seja a label prevista."
   ]
  },
  {
   "cell_type": "code",
   "execution_count": 4,
   "id": "9bd3460d-2f51-4fa4-8624-aa71f934a85a",
   "metadata": {
    "tags": []
   },
   "outputs": [
    {
     "data": {
      "text/plain": [
       "array(['Negar', 'Conceder'], dtype=object)"
      ]
     },
     "execution_count": 4,
     "metadata": {},
     "output_type": "execute_result"
    }
   ],
   "source": [
    "df.loc[:, 'limite_adicional'].unique()"
   ]
  },
  {
   "cell_type": "markdown",
   "id": "087eb6f7-e135-4952-ac64-b7f1e23345a1",
   "metadata": {},
   "source": [
    "A porcentagem de Negar e Conceder da nossa medida de interesse \"limite_adicional\":"
   ]
  },
  {
   "cell_type": "code",
   "execution_count": 5,
   "id": "a32b02a5-ad13-41b5-8d15-1c4401f8d4a1",
   "metadata": {
    "tags": []
   },
   "outputs": [
    {
     "data": {
      "text/plain": [
       "Negar       0.841579\n",
       "Conceder    0.158421\n",
       "Name: limite_adicional, dtype: float64"
      ]
     },
     "execution_count": 5,
     "metadata": {},
     "output_type": "execute_result"
    }
   ],
   "source": [
    "df.loc[:, 'limite_adicional'].value_counts(normalize = True)"
   ]
  },
  {
   "cell_type": "markdown",
   "id": "598ad691-af50-42a9-8ebb-7f4ecfdfe4ab",
   "metadata": {},
   "source": [
    "# 2.0 - Seleção de Features\n",
    "\n",
    "Existem features de interesse na nossa base de dados."
   ]
  },
  {
   "cell_type": "code",
   "execution_count": 6,
   "id": "4afd501a-a5e0-4a74-80e6-a5a5c729192d",
   "metadata": {
    "tags": []
   },
   "outputs": [
    {
     "data": {
      "text/plain": [
       "Index(['id_cliente', 'idade', 'saldo_atual', 'divida_atual', 'renda_anual',\n",
       "       'valor_em_investimentos', 'taxa_utilizacao_credito', 'num_emprestimos',\n",
       "       'num_contas_bancarias', 'num_cartoes_credito', 'dias_atraso_dt_venc',\n",
       "       'num_pgtos_atrasados', 'num_consultas_credito', 'taxa_juros',\n",
       "       'investe_exterior', 'pessoa_polit_exp', 'limite_adicional'],\n",
       "      dtype='object')"
      ]
     },
     "execution_count": 6,
     "metadata": {},
     "output_type": "execute_result"
    }
   ],
   "source": [
    "df.columns"
   ]
  },
  {
   "cell_type": "code",
   "execution_count": 7,
   "id": "19a7feee-77c1-4d97-8b7b-fe1cf2184cb7",
   "metadata": {
    "tags": []
   },
   "outputs": [],
   "source": [
    "label = 'limite_adicional'\n",
    "features = ['idade', 'saldo_atual', 'divida_atual', 'renda_anual',\n",
    "       'valor_em_investimentos', 'taxa_utilizacao_credito', 'num_emprestimos',\n",
    "       'num_contas_bancarias', 'num_cartoes_credito', 'dias_atraso_dt_venc',\n",
    "       'num_pgtos_atrasados', 'num_consultas_credito', 'taxa_juros']\n",
    "\n",
    "x_train = df.loc[:, features] # Informações de treino com features\n",
    "y_train = df.loc[:, label].values.ravel() # Informações do estado original da label"
   ]
  },
  {
   "cell_type": "markdown",
   "id": "bb15ef31-bef9-418d-94b1-d64e7cac89aa",
   "metadata": {},
   "source": [
    "## 3.0 - Treinamento"
   ]
  },
  {
   "cell_type": "code",
   "execution_count": 8,
   "id": "7bc3faf5-419b-45c1-ae41-bedb88036502",
   "metadata": {
    "tags": []
   },
   "outputs": [
    {
     "data": {
      "text/html": [
       "<style>#sk-container-id-1 {color: black;}#sk-container-id-1 pre{padding: 0;}#sk-container-id-1 div.sk-toggleable {background-color: white;}#sk-container-id-1 label.sk-toggleable__label {cursor: pointer;display: block;width: 100%;margin-bottom: 0;padding: 0.3em;box-sizing: border-box;text-align: center;}#sk-container-id-1 label.sk-toggleable__label-arrow:before {content: \"▸\";float: left;margin-right: 0.25em;color: #696969;}#sk-container-id-1 label.sk-toggleable__label-arrow:hover:before {color: black;}#sk-container-id-1 div.sk-estimator:hover label.sk-toggleable__label-arrow:before {color: black;}#sk-container-id-1 div.sk-toggleable__content {max-height: 0;max-width: 0;overflow: hidden;text-align: left;background-color: #f0f8ff;}#sk-container-id-1 div.sk-toggleable__content pre {margin: 0.2em;color: black;border-radius: 0.25em;background-color: #f0f8ff;}#sk-container-id-1 input.sk-toggleable__control:checked~div.sk-toggleable__content {max-height: 200px;max-width: 100%;overflow: auto;}#sk-container-id-1 input.sk-toggleable__control:checked~label.sk-toggleable__label-arrow:before {content: \"▾\";}#sk-container-id-1 div.sk-estimator input.sk-toggleable__control:checked~label.sk-toggleable__label {background-color: #d4ebff;}#sk-container-id-1 div.sk-label input.sk-toggleable__control:checked~label.sk-toggleable__label {background-color: #d4ebff;}#sk-container-id-1 input.sk-hidden--visually {border: 0;clip: rect(1px 1px 1px 1px);clip: rect(1px, 1px, 1px, 1px);height: 1px;margin: -1px;overflow: hidden;padding: 0;position: absolute;width: 1px;}#sk-container-id-1 div.sk-estimator {font-family: monospace;background-color: #f0f8ff;border: 1px dotted black;border-radius: 0.25em;box-sizing: border-box;margin-bottom: 0.5em;}#sk-container-id-1 div.sk-estimator:hover {background-color: #d4ebff;}#sk-container-id-1 div.sk-parallel-item::after {content: \"\";width: 100%;border-bottom: 1px solid gray;flex-grow: 1;}#sk-container-id-1 div.sk-label:hover label.sk-toggleable__label {background-color: #d4ebff;}#sk-container-id-1 div.sk-serial::before {content: \"\";position: absolute;border-left: 1px solid gray;box-sizing: border-box;top: 0;bottom: 0;left: 50%;z-index: 0;}#sk-container-id-1 div.sk-serial {display: flex;flex-direction: column;align-items: center;background-color: white;padding-right: 0.2em;padding-left: 0.2em;position: relative;}#sk-container-id-1 div.sk-item {position: relative;z-index: 1;}#sk-container-id-1 div.sk-parallel {display: flex;align-items: stretch;justify-content: center;background-color: white;position: relative;}#sk-container-id-1 div.sk-item::before, #sk-container-id-1 div.sk-parallel-item::before {content: \"\";position: absolute;border-left: 1px solid gray;box-sizing: border-box;top: 0;bottom: 0;left: 50%;z-index: -1;}#sk-container-id-1 div.sk-parallel-item {display: flex;flex-direction: column;z-index: 1;position: relative;background-color: white;}#sk-container-id-1 div.sk-parallel-item:first-child::after {align-self: flex-end;width: 50%;}#sk-container-id-1 div.sk-parallel-item:last-child::after {align-self: flex-start;width: 50%;}#sk-container-id-1 div.sk-parallel-item:only-child::after {width: 0;}#sk-container-id-1 div.sk-dashed-wrapped {border: 1px dashed gray;margin: 0 0.4em 0.5em 0.4em;box-sizing: border-box;padding-bottom: 0.4em;background-color: white;}#sk-container-id-1 div.sk-label label {font-family: monospace;font-weight: bold;display: inline-block;line-height: 1.2em;}#sk-container-id-1 div.sk-label-container {text-align: center;}#sk-container-id-1 div.sk-container {/* jupyter's `normalize.less` sets `[hidden] { display: none; }` but bootstrap.min.css set `[hidden] { display: none !important; }` so we also need the `!important` here to be able to override the default hidden behavior on the sphinx rendered scikit-learn.org. See: https://github.com/scikit-learn/scikit-learn/issues/21755 */display: inline-block !important;position: relative;}#sk-container-id-1 div.sk-text-repr-fallback {display: none;}</style><div id=\"sk-container-id-1\" class=\"sk-top-container\"><div class=\"sk-text-repr-fallback\"><pre>KNeighborsClassifier(n_neighbors=7)</pre><b>In a Jupyter environment, please rerun this cell to show the HTML representation or trust the notebook. <br />On GitHub, the HTML representation is unable to render, please try loading this page with nbviewer.org.</b></div><div class=\"sk-container\" hidden><div class=\"sk-item\"><div class=\"sk-estimator sk-toggleable\"><input class=\"sk-toggleable__control sk-hidden--visually\" id=\"sk-estimator-id-1\" type=\"checkbox\" checked><label for=\"sk-estimator-id-1\" class=\"sk-toggleable__label sk-toggleable__label-arrow\">KNeighborsClassifier</label><div class=\"sk-toggleable__content\"><pre>KNeighborsClassifier(n_neighbors=7)</pre></div></div></div></div></div>"
      ],
      "text/plain": [
       "KNeighborsClassifier(n_neighbors=7)"
      ]
     },
     "execution_count": 8,
     "metadata": {},
     "output_type": "execute_result"
    }
   ],
   "source": [
    "# Definição de parâmetros\n",
    "knn_classifier = KNeighborsClassifier( n_neighbors = 7 )\n",
    "\n",
    "# Treinando o algoritmo com informações já existentes\n",
    "knn_classifier.fit(x_train, y_train)"
   ]
  },
  {
   "cell_type": "markdown",
   "id": "a5d65eec-0d89-473e-8b52-83f9066a9991",
   "metadata": {},
   "source": [
    "Agora, depois do treinamento, vamos fazer uma previsão em cima do aprendizado do KNN:"
   ]
  },
  {
   "cell_type": "code",
   "execution_count": 9,
   "id": "643fccab-92f8-43cb-a4b5-8e8f3e587ac2",
   "metadata": {
    "tags": []
   },
   "outputs": [],
   "source": [
    "# Previsão das observações\n",
    "y_pred = knn_classifier.predict(x_train)"
   ]
  },
  {
   "cell_type": "code",
   "execution_count": 10,
   "id": "12f8461c-031c-42ad-9486-287ceb2e8ad1",
   "metadata": {
    "tags": []
   },
   "outputs": [],
   "source": [
    "# Comparação de Previsto com o Realizado\n",
    "df_result = df.loc[:, ['id_cliente', 'idade', 'limite_adicional']]\n",
    "df_result['predicted'] = y_pred"
   ]
  },
  {
   "cell_type": "code",
   "execution_count": 11,
   "id": "98d50182-d496-403d-b938-716e8b6086e6",
   "metadata": {
    "tags": []
   },
   "outputs": [
    {
     "data": {
      "text/html": [
       "<div>\n",
       "<style scoped>\n",
       "    .dataframe tbody tr th:only-of-type {\n",
       "        vertical-align: middle;\n",
       "    }\n",
       "\n",
       "    .dataframe tbody tr th {\n",
       "        vertical-align: top;\n",
       "    }\n",
       "\n",
       "    .dataframe thead th {\n",
       "        text-align: right;\n",
       "    }\n",
       "</style>\n",
       "<table border=\"1\" class=\"dataframe\">\n",
       "  <thead>\n",
       "    <tr style=\"text-align: right;\">\n",
       "      <th></th>\n",
       "      <th>id_cliente</th>\n",
       "      <th>idade</th>\n",
       "      <th>limite_adicional</th>\n",
       "      <th>predicted</th>\n",
       "    </tr>\n",
       "  </thead>\n",
       "  <tbody>\n",
       "    <tr>\n",
       "      <th>2821</th>\n",
       "      <td>10453</td>\n",
       "      <td>33</td>\n",
       "      <td>Negar</td>\n",
       "      <td>Negar</td>\n",
       "    </tr>\n",
       "    <tr>\n",
       "      <th>5452</th>\n",
       "      <td>4837</td>\n",
       "      <td>2656</td>\n",
       "      <td>Negar</td>\n",
       "      <td>Negar</td>\n",
       "    </tr>\n",
       "    <tr>\n",
       "      <th>8803</th>\n",
       "      <td>12051</td>\n",
       "      <td>30</td>\n",
       "      <td>Negar</td>\n",
       "      <td>Negar</td>\n",
       "    </tr>\n",
       "    <tr>\n",
       "      <th>6131</th>\n",
       "      <td>11500</td>\n",
       "      <td>38</td>\n",
       "      <td>Negar</td>\n",
       "      <td>Negar</td>\n",
       "    </tr>\n",
       "    <tr>\n",
       "      <th>1018</th>\n",
       "      <td>7282</td>\n",
       "      <td>29</td>\n",
       "      <td>Negar</td>\n",
       "      <td>Negar</td>\n",
       "    </tr>\n",
       "    <tr>\n",
       "      <th>3634</th>\n",
       "      <td>4953</td>\n",
       "      <td>28</td>\n",
       "      <td>Conceder</td>\n",
       "      <td>Negar</td>\n",
       "    </tr>\n",
       "    <tr>\n",
       "      <th>5064</th>\n",
       "      <td>9803</td>\n",
       "      <td>58</td>\n",
       "      <td>Negar</td>\n",
       "      <td>Negar</td>\n",
       "    </tr>\n",
       "    <tr>\n",
       "      <th>2121</th>\n",
       "      <td>4418</td>\n",
       "      <td>28</td>\n",
       "      <td>Negar</td>\n",
       "      <td>Negar</td>\n",
       "    </tr>\n",
       "    <tr>\n",
       "      <th>2508</th>\n",
       "      <td>7808</td>\n",
       "      <td>39</td>\n",
       "      <td>Negar</td>\n",
       "      <td>Negar</td>\n",
       "    </tr>\n",
       "    <tr>\n",
       "      <th>8218</th>\n",
       "      <td>9413</td>\n",
       "      <td>24</td>\n",
       "      <td>Negar</td>\n",
       "      <td>Negar</td>\n",
       "    </tr>\n",
       "  </tbody>\n",
       "</table>\n",
       "</div>"
      ],
      "text/plain": [
       "      id_cliente  idade limite_adicional predicted\n",
       "2821       10453     33            Negar     Negar\n",
       "5452        4837   2656            Negar     Negar\n",
       "8803       12051     30            Negar     Negar\n",
       "6131       11500     38            Negar     Negar\n",
       "1018        7282     29            Negar     Negar\n",
       "3634        4953     28         Conceder     Negar\n",
       "5064        9803     58            Negar     Negar\n",
       "2121        4418     28            Negar     Negar\n",
       "2508        7808     39            Negar     Negar\n",
       "8218        9413     24            Negar     Negar"
      ]
     },
     "execution_count": 11,
     "metadata": {},
     "output_type": "execute_result"
    }
   ],
   "source": [
    "# Obtendo resultados aleatórios com o método do pandas sample()\n",
    "df_result.sample(10)"
   ]
  },
  {
   "cell_type": "markdown",
   "id": "71dcab61-cc63-4929-aff9-b521cb3b9c2a",
   "metadata": {},
   "source": [
    "Como fizemos no começo, vamos agora normalizar a coluna \"y_pred\" para termos uma noção de como a nossa previsão se saiu em relação aos números originais:"
   ]
  },
  {
   "cell_type": "code",
   "execution_count": 12,
   "id": "01fe28ad-6a8d-4d40-a263-5a87cdf2756c",
   "metadata": {
    "tags": []
   },
   "outputs": [
    {
     "data": {
      "text/plain": [
       "Negar       0.939789\n",
       "Conceder    0.060211\n",
       "Name: predicted, dtype: float64"
      ]
     },
     "execution_count": 12,
     "metadata": {},
     "output_type": "execute_result"
    }
   ],
   "source": [
    "df_result.loc[:, 'predicted'].value_counts(normalize = True)"
   ]
  },
  {
   "cell_type": "code",
   "execution_count": 13,
   "id": "cbb6b779-2934-422d-8a6f-b26e769e1e86",
   "metadata": {
    "tags": []
   },
   "outputs": [],
   "source": [
    "# Aplicando função para criar uma nova coluna com a comparação entre o real e a previsão\n",
    "df_result['acertos'] = (df_result.loc[:, ['id_cliente', 'limite_adicional', 'predicted']].apply(lambda x : 1 if x['limite_adicional'] == x['predicted'] else 0, axis = 1))"
   ]
  },
  {
   "cell_type": "code",
   "execution_count": 14,
   "id": "13701efa-e690-4747-bb9f-b19e3b9ac485",
   "metadata": {
    "tags": []
   },
   "outputs": [
    {
     "data": {
      "text/html": [
       "<div>\n",
       "<style scoped>\n",
       "    .dataframe tbody tr th:only-of-type {\n",
       "        vertical-align: middle;\n",
       "    }\n",
       "\n",
       "    .dataframe tbody tr th {\n",
       "        vertical-align: top;\n",
       "    }\n",
       "\n",
       "    .dataframe thead th {\n",
       "        text-align: right;\n",
       "    }\n",
       "</style>\n",
       "<table border=\"1\" class=\"dataframe\">\n",
       "  <thead>\n",
       "    <tr style=\"text-align: right;\">\n",
       "      <th></th>\n",
       "      <th>id_cliente</th>\n",
       "      <th>idade</th>\n",
       "      <th>limite_adicional</th>\n",
       "      <th>predicted</th>\n",
       "      <th>acertos</th>\n",
       "    </tr>\n",
       "  </thead>\n",
       "  <tbody>\n",
       "    <tr>\n",
       "      <th>0</th>\n",
       "      <td>1767</td>\n",
       "      <td>21</td>\n",
       "      <td>Negar</td>\n",
       "      <td>Negar</td>\n",
       "      <td>1</td>\n",
       "    </tr>\n",
       "    <tr>\n",
       "      <th>1</th>\n",
       "      <td>11920</td>\n",
       "      <td>40</td>\n",
       "      <td>Negar</td>\n",
       "      <td>Negar</td>\n",
       "      <td>1</td>\n",
       "    </tr>\n",
       "    <tr>\n",
       "      <th>2</th>\n",
       "      <td>8910</td>\n",
       "      <td>36</td>\n",
       "      <td>Negar</td>\n",
       "      <td>Negar</td>\n",
       "      <td>1</td>\n",
       "    </tr>\n",
       "    <tr>\n",
       "      <th>3</th>\n",
       "      <td>4964</td>\n",
       "      <td>58</td>\n",
       "      <td>Negar</td>\n",
       "      <td>Negar</td>\n",
       "      <td>1</td>\n",
       "    </tr>\n",
       "    <tr>\n",
       "      <th>4</th>\n",
       "      <td>10100</td>\n",
       "      <td>35</td>\n",
       "      <td>Negar</td>\n",
       "      <td>Negar</td>\n",
       "      <td>1</td>\n",
       "    </tr>\n",
       "    <tr>\n",
       "      <th>...</th>\n",
       "      <td>...</td>\n",
       "      <td>...</td>\n",
       "      <td>...</td>\n",
       "      <td>...</td>\n",
       "      <td>...</td>\n",
       "    </tr>\n",
       "    <tr>\n",
       "      <th>9495</th>\n",
       "      <td>5155</td>\n",
       "      <td>29</td>\n",
       "      <td>Negar</td>\n",
       "      <td>Negar</td>\n",
       "      <td>1</td>\n",
       "    </tr>\n",
       "    <tr>\n",
       "      <th>9496</th>\n",
       "      <td>11977</td>\n",
       "      <td>1237</td>\n",
       "      <td>Negar</td>\n",
       "      <td>Negar</td>\n",
       "      <td>1</td>\n",
       "    </tr>\n",
       "    <tr>\n",
       "      <th>9497</th>\n",
       "      <td>9278</td>\n",
       "      <td>47</td>\n",
       "      <td>Negar</td>\n",
       "      <td>Negar</td>\n",
       "      <td>1</td>\n",
       "    </tr>\n",
       "    <tr>\n",
       "      <th>9498</th>\n",
       "      <td>2525</td>\n",
       "      <td>42</td>\n",
       "      <td>Negar</td>\n",
       "      <td>Negar</td>\n",
       "      <td>1</td>\n",
       "    </tr>\n",
       "    <tr>\n",
       "      <th>9499</th>\n",
       "      <td>9636</td>\n",
       "      <td>35</td>\n",
       "      <td>Negar</td>\n",
       "      <td>Negar</td>\n",
       "      <td>1</td>\n",
       "    </tr>\n",
       "  </tbody>\n",
       "</table>\n",
       "<p>9500 rows × 5 columns</p>\n",
       "</div>"
      ],
      "text/plain": [
       "      id_cliente  idade limite_adicional predicted  acertos\n",
       "0           1767     21            Negar     Negar        1\n",
       "1          11920     40            Negar     Negar        1\n",
       "2           8910     36            Negar     Negar        1\n",
       "3           4964     58            Negar     Negar        1\n",
       "4          10100     35            Negar     Negar        1\n",
       "...          ...    ...              ...       ...      ...\n",
       "9495        5155     29            Negar     Negar        1\n",
       "9496       11977   1237            Negar     Negar        1\n",
       "9497        9278     47            Negar     Negar        1\n",
       "9498        2525     42            Negar     Negar        1\n",
       "9499        9636     35            Negar     Negar        1\n",
       "\n",
       "[9500 rows x 5 columns]"
      ]
     },
     "execution_count": 14,
     "metadata": {},
     "output_type": "execute_result"
    }
   ],
   "source": [
    "df_result"
   ]
  },
  {
   "cell_type": "markdown",
   "id": "e7ab6180-8129-4b42-a65f-941e1b1890ac",
   "metadata": {},
   "source": [
    "## 4.0 -  Métricas "
   ]
  },
  {
   "cell_type": "markdown",
   "id": "1022b0a9-04fd-4e2b-8285-f241b287c8fc",
   "metadata": {
    "tags": []
   },
   "source": [
    "Matrix de confusão"
   ]
  },
  {
   "cell_type": "code",
   "execution_count": 15,
   "id": "4aa7a3c8-4436-4709-9ba5-587648aa57d9",
   "metadata": {
    "tags": []
   },
   "outputs": [
    {
     "data": {
      "text/plain": [
       "array([[ 369, 1136],\n",
       "       [ 203, 7792]], dtype=int64)"
      ]
     },
     "execution_count": 15,
     "metadata": {},
     "output_type": "execute_result"
    }
   ],
   "source": [
    "mt.confusion_matrix(y_train, y_pred)"
   ]
  },
  {
   "cell_type": "markdown",
   "id": "333049cc-d3fd-48e7-818c-3a8d0c700ad8",
   "metadata": {},
   "source": [
    "Acurácia"
   ]
  },
  {
   "cell_type": "code",
   "execution_count": 16,
   "id": "346d786a-3447-48a7-bc9b-e0f94a8f008e",
   "metadata": {
    "tags": []
   },
   "outputs": [
    {
     "data": {
      "text/plain": [
       "0.8590526315789474"
      ]
     },
     "execution_count": 16,
     "metadata": {},
     "output_type": "execute_result"
    }
   ],
   "source": [
    "mt.accuracy_score(y_train, y_pred)"
   ]
  },
  {
   "cell_type": "markdown",
   "id": "efdfc59f-adee-4229-93ba-3d737ef9846a",
   "metadata": {},
   "source": [
    "Precisão"
   ]
  },
  {
   "cell_type": "code",
   "execution_count": 17,
   "id": "b797ee98-dc0d-40d5-9057-0f79979616cf",
   "metadata": {
    "tags": []
   },
   "outputs": [
    {
     "data": {
      "text/plain": [
       "0.6451048951048951"
      ]
     },
     "execution_count": 17,
     "metadata": {},
     "output_type": "execute_result"
    }
   ],
   "source": [
    "mt.precision_score(y_train, y_pred, pos_label=\"Conceder\")"
   ]
  },
  {
   "cell_type": "markdown",
   "id": "ad0efc2e-b720-4a88-a80c-c5e710c6e37c",
   "metadata": {},
   "source": [
    "Acurácia"
   ]
  },
  {
   "cell_type": "code",
   "execution_count": 18,
   "id": "8210a555-44b9-4fcb-87ed-3952bd31317f",
   "metadata": {
    "tags": []
   },
   "outputs": [
    {
     "data": {
      "text/plain": [
       "0.24518272425249169"
      ]
     },
     "execution_count": 18,
     "metadata": {},
     "output_type": "execute_result"
    }
   ],
   "source": [
    "mt.recall_score(y_train, y_pred, pos_label=\"Conceder\")"
   ]
  },
  {
   "cell_type": "markdown",
   "id": "2ca1890a-fbc4-4487-9d80-00504a04d75d",
   "metadata": {},
   "source": [
    "## 5.0 - Treinando KNN com diferentes casas de distância"
   ]
  },
  {
   "cell_type": "markdown",
   "id": "9a5d8553-3a1e-433f-940a-a50f17dc9a2c",
   "metadata": {},
   "source": [
    "Retreino o algoritmo com os seguintes valores para K: [3, 5, 7, 9, 11, 13,\n",
    "15, 17, 19 e 21] e anote a acurácia."
   ]
  },
  {
   "cell_type": "markdown",
   "id": "89ddb5be-5bb9-4638-9c39-4139cf58cb3c",
   "metadata": {
    "tags": []
   },
   "source": [
    "### n_neighbors = 3"
   ]
  },
  {
   "cell_type": "code",
   "execution_count": 76,
   "id": "3675182b-bbec-475a-9cec-b12df7594fee",
   "metadata": {
    "tags": []
   },
   "outputs": [],
   "source": [
    "knn_classifier = KNeighborsClassifier( n_neighbors = 3 )\n",
    "\n",
    "knn_classifier.fit(x_train, y_train)\n",
    "\n",
    "y_pred = knn_classifier.predict(x_train)\n",
    "\n",
    "df_result = df.loc[:, ['id_cliente', 'idade', 'limite_adicional']]\n",
    "df_result['predicted'] = y_pred3"
   ]
  },
  {
   "cell_type": "markdown",
   "id": "70c6fa8f-0cf5-44eb-aa2f-ed762d2b2269",
   "metadata": {},
   "source": [
    "Acurácia do KNN com 3 casas:"
   ]
  },
  {
   "cell_type": "code",
   "execution_count": 77,
   "id": "5dbc42e3-6c33-4b77-909c-72a333267456",
   "metadata": {
    "tags": []
   },
   "outputs": [
    {
     "data": {
      "text/plain": [
       "0.8854736842105263"
      ]
     },
     "execution_count": 77,
     "metadata": {},
     "output_type": "execute_result"
    }
   ],
   "source": [
    "mt.accuracy_score(y_train, y_pred)"
   ]
  },
  {
   "cell_type": "markdown",
   "id": "455f120e-99e2-40d8-861a-a9ce1d8b1fe9",
   "metadata": {},
   "source": [
    "### n_neighbors = 5 "
   ]
  },
  {
   "cell_type": "code",
   "execution_count": 78,
   "id": "f9da441f-7fe2-4c5e-af10-a5595ac8405b",
   "metadata": {
    "tags": []
   },
   "outputs": [],
   "source": [
    "knn_classifier = KNeighborsClassifier( n_neighbors = 5 )\n",
    "\n",
    "knn_classifier.fit(x_train, y_train)\n",
    "\n",
    "y_pred = knn_classifier5.predict(x_train)\n",
    "\n",
    "df_result = df.loc[:, ['id_cliente', 'idade', 'limite_adicional']]\n",
    "\n",
    "df_result['predicted'] = y_pred"
   ]
  },
  {
   "cell_type": "code",
   "execution_count": 79,
   "id": "441a9407-2d3c-4d91-b45a-6297cd6fad34",
   "metadata": {
    "tags": []
   },
   "outputs": [
    {
     "data": {
      "text/plain": [
       "0.8667368421052631"
      ]
     },
     "execution_count": 79,
     "metadata": {},
     "output_type": "execute_result"
    }
   ],
   "source": [
    "mt.accuracy_score(y_train, y_pred)"
   ]
  },
  {
   "cell_type": "markdown",
   "id": "dee21d81-c939-40b6-a9d8-27e88f5b9412",
   "metadata": {},
   "source": [
    "### n_neighbors = 7"
   ]
  },
  {
   "cell_type": "code",
   "execution_count": 80,
   "id": "5f7fdb99-0185-4142-9a40-064efd6cc663",
   "metadata": {},
   "outputs": [],
   "source": [
    "knn_classifier = KNeighborsClassifier( n_neighbors= 7)\n",
    "\n",
    "knn_classifier.fit(x_train, y_train)\n",
    "\n",
    "y_pred = knn_classifier.predict(x_train)\n",
    "\n",
    "df_results = df.loc[:, ['id_cliente', 'idade', 'limite_adicional']]\n",
    "\n",
    "df_results['predicted'] = y_pred"
   ]
  },
  {
   "cell_type": "code",
   "execution_count": 81,
   "id": "9587d473-d34a-41e6-8914-21ca310ba23c",
   "metadata": {
    "tags": []
   },
   "outputs": [
    {
     "data": {
      "text/plain": [
       "0.8590526315789474"
      ]
     },
     "execution_count": 81,
     "metadata": {},
     "output_type": "execute_result"
    }
   ],
   "source": [
    "mt.accuracy_score(y_train, y_pred)"
   ]
  },
  {
   "cell_type": "markdown",
   "id": "5ea2a38c-9c82-4a6b-ab2d-5b5d3deb2f63",
   "metadata": {},
   "source": [
    "## n_neigbors = 9"
   ]
  },
  {
   "cell_type": "code",
   "execution_count": 82,
   "id": "02ac98a2-fed7-43a8-afe2-69f3741fdccd",
   "metadata": {
    "tags": []
   },
   "outputs": [],
   "source": [
    "knn_classifier = KNeighborsClassifier( n_neighbors= 9) # Número de casas\n",
    "\n",
    "knn_classifier.fit(x_train, y_train) # treinando com fit\n",
    "\n",
    "y_pred = knn_classifier.predict(x_train) # prevendo label\n",
    "\n",
    "df_results = df.loc[:, ['id_cliente', 'idade', 'limite_adicional']] # setando dataset\n",
    "\n",
    "df_results['predicted'] = y_pred # criando coluna para a previsão"
   ]
  },
  {
   "cell_type": "code",
   "execution_count": 83,
   "id": "8c49c906-adc9-4a05-9ac1-9380ca81b279",
   "metadata": {
    "tags": []
   },
   "outputs": [
    {
     "data": {
      "text/plain": [
       "0.8528421052631578"
      ]
     },
     "execution_count": 83,
     "metadata": {},
     "output_type": "execute_result"
    }
   ],
   "source": [
    "mt.accuracy_score(y_train, y_pred)"
   ]
  },
  {
   "cell_type": "markdown",
   "id": "149d83ab-13a0-4abf-86b5-6ddfc18d052f",
   "metadata": {},
   "source": [
    "## n_neighrs = 11"
   ]
  },
  {
   "cell_type": "code",
   "execution_count": 91,
   "id": "6544a61d-231f-457e-9dbf-f089e1d8e96a",
   "metadata": {
    "tags": []
   },
   "outputs": [],
   "source": [
    "knn_classifier = KNeighborsClassifier( n_neighbors= 11) # Número de casas\n",
    "\n",
    "knn_classifier.fit(x_train, y_train) # treinando com fit\n",
    "\n",
    "y_pred = knn_classifier.predict(x_train) # prevendo label\n",
    "\n",
    "df_results = df.loc[:, ['id_cliente', 'idade', 'limite_adicional']] # setando dataset\n",
    "\n",
    "df_results['predicted'] = y_pred # criando coluna para a previsão"
   ]
  },
  {
   "cell_type": "code",
   "execution_count": 92,
   "id": "4be1bade-99c7-4092-ba51-30a5f56c5cf0",
   "metadata": {
    "tags": []
   },
   "outputs": [
    {
     "data": {
      "text/plain": [
       "0.85"
      ]
     },
     "execution_count": 92,
     "metadata": {},
     "output_type": "execute_result"
    }
   ],
   "source": [
    "mt.accuracy_score(y_train, y_pred)"
   ]
  },
  {
   "cell_type": "markdown",
   "id": "c162b02e-ea2e-463f-b305-97f32cde3ea2",
   "metadata": {},
   "source": [
    "## n_neighrs = 13"
   ]
  },
  {
   "cell_type": "code",
   "execution_count": 95,
   "id": "bdb4781c-772b-48ad-9730-8d4d13bf2fac",
   "metadata": {
    "tags": []
   },
   "outputs": [],
   "source": [
    "knn_classifier = KNeighborsClassifier( n_neighbors= 13) # Número de casas\n",
    "\n",
    "knn_classifier.fit(x_train, y_train) # treinando com fit\n",
    "\n",
    "y_pred = knn_classifier.predict(x_train) # prevendo label\n",
    "\n",
    "df_results = df.loc[:, ['id_cliente', 'idade', 'limite_adicional']] # setando dataset\n",
    "\n",
    "df_results['predicted'] = y_pred # criando coluna para a previsão"
   ]
  },
  {
   "cell_type": "code",
   "execution_count": 96,
   "id": "69cf91de-f608-45bb-8721-1f6ee2b9a161",
   "metadata": {
    "tags": []
   },
   "outputs": [
    {
     "data": {
      "text/plain": [
       "0.8492631578947368"
      ]
     },
     "execution_count": 96,
     "metadata": {},
     "output_type": "execute_result"
    }
   ],
   "source": [
    "mt.accuracy_score(y_train, y_pred)"
   ]
  },
  {
   "cell_type": "markdown",
   "id": "1539d0f9-af09-4375-95e2-139c9e13a982",
   "metadata": {},
   "source": [
    "## n_neighrs = 15"
   ]
  },
  {
   "cell_type": "code",
   "execution_count": 97,
   "id": "c714ff87-4bfc-49fd-88cf-e485c0a2ef1f",
   "metadata": {
    "tags": []
   },
   "outputs": [],
   "source": [
    "knn_classifier = KNeighborsClassifier( n_neighbors= 15) # Número de casas\n",
    "\n",
    "knn_classifier.fit(x_train, y_train) # treinando com fit\n",
    "\n",
    "y_pred = knn_classifier.predict(x_train) # prevendo label\n",
    "\n",
    "df_results = df.loc[:, ['id_cliente', 'idade', 'limite_adicional']] # setando dataset\n",
    "\n",
    "df_results['predicted'] = y_pred # criando coluna para a previsão"
   ]
  },
  {
   "cell_type": "code",
   "execution_count": 98,
   "id": "96dfaf48-0d7c-4ccf-afb4-af632554712b",
   "metadata": {
    "tags": []
   },
   "outputs": [
    {
     "data": {
      "text/plain": [
       "0.848"
      ]
     },
     "execution_count": 98,
     "metadata": {},
     "output_type": "execute_result"
    }
   ],
   "source": [
    "mt.accuracy_score(y_train, y_pred)"
   ]
  },
  {
   "cell_type": "markdown",
   "id": "d2d53d84-800d-43e3-9a43-dbb90a2b0bfd",
   "metadata": {},
   "source": [
    "## n_neighrs = 17"
   ]
  },
  {
   "cell_type": "code",
   "execution_count": 110,
   "id": "6e5f4f00-8aa0-4a92-af42-d663f36d2a31",
   "metadata": {
    "tags": []
   },
   "outputs": [],
   "source": [
    "knn_classifier = KNeighborsClassifier( n_neighbors= 17) # Número de casas\n",
    "\n",
    "knn_classifier.fit(x_train, y_train) # treinando com fit\n",
    "\n",
    "y_pred = knn_classifier.predict(x_train) # prevendo label\n",
    "\n",
    "df_results = df.loc[:, ['id_cliente', 'idade', 'limite_adicional']] # setando dataset\n",
    "\n",
    "df_results['predicted'] = y_pred # criando coluna para a previsão"
   ]
  },
  {
   "cell_type": "code",
   "execution_count": 111,
   "id": "57ecccf7-62eb-4717-bb59-7bd551f96fdc",
   "metadata": {
    "tags": []
   },
   "outputs": [
    {
     "data": {
      "text/plain": [
       "0.8478947368421053"
      ]
     },
     "execution_count": 111,
     "metadata": {},
     "output_type": "execute_result"
    }
   ],
   "source": [
    "mt.accuracy_score(y_train, y_pred)"
   ]
  },
  {
   "cell_type": "markdown",
   "id": "f99f4fd0-f37f-44e8-a368-361c068b3fb5",
   "metadata": {},
   "source": [
    "## n_neighrs = 19"
   ]
  },
  {
   "cell_type": "code",
   "execution_count": 108,
   "id": "13820b5b-3b2a-4e4b-b781-27f8d06ef896",
   "metadata": {
    "tags": []
   },
   "outputs": [],
   "source": [
    "knn_classifier = KNeighborsClassifier( n_neighbors= 19) # Número de casas\n",
    "\n",
    "knn_classifier.fit(x_train, y_train) # treinando com fit\n",
    "\n",
    "y_pred = knn_classifier.predict(x_train) # prevendo label\n",
    "\n",
    "df_results = df.loc[:, ['id_cliente', 'idade', 'limite_adicional']] # setando dataset\n",
    "\n",
    "df_results['predicted'] = y_pred # criando coluna para a previsão"
   ]
  },
  {
   "cell_type": "code",
   "execution_count": 109,
   "id": "64cf9eae-c27c-42eb-b9a7-b566f4343a08",
   "metadata": {
    "tags": []
   },
   "outputs": [
    {
     "data": {
      "text/plain": [
       "0.8478947368421053"
      ]
     },
     "execution_count": 109,
     "metadata": {},
     "output_type": "execute_result"
    }
   ],
   "source": [
    "mt.accuracy_score(y_train, y_pred)"
   ]
  },
  {
   "cell_type": "markdown",
   "id": "2b4ce6b5-77d8-4c96-9620-99cd93b9d6db",
   "metadata": {},
   "source": [
    "## n_neighrs = 21"
   ]
  },
  {
   "cell_type": "code",
   "execution_count": 114,
   "id": "2bef49be-b6e7-4d9c-bc8a-fc857894d9e8",
   "metadata": {
    "tags": []
   },
   "outputs": [],
   "source": [
    "knn_classifier = KNeighborsClassifier( n_neighbors= 19) # Número de casas\n",
    "\n",
    "knn_classifier.fit(x_train, y_train) # treinando com fit\n",
    "\n",
    "y_pred = knn_classifier.predict(x_train) # prevendo label\n",
    "\n",
    "df_results = df.loc[:, ['id_cliente', 'idade', 'limite_adicional']] # setando dataset\n",
    "\n",
    "df_results['predicted'] = y_pred # criando coluna para a previsão"
   ]
  },
  {
   "cell_type": "code",
   "execution_count": 115,
   "id": "fbd3694f-6f4e-48dd-a24c-02d8999afea2",
   "metadata": {
    "tags": []
   },
   "outputs": [
    {
     "data": {
      "text/plain": [
       "0.8478947368421053"
      ]
     },
     "execution_count": 115,
     "metadata": {},
     "output_type": "execute_result"
    }
   ],
   "source": [
    "mt.accuracy_score(y_train, y_pred)"
   ]
  },
  {
   "cell_type": "markdown",
   "id": "362d16d0-26b9-4d86-8c49-190974ae7c8b",
   "metadata": {},
   "source": [
    "## 6.0 - Qual o problema principal de usar a métrica acurácia?"
   ]
  },
  {
   "cell_type": "markdown",
   "id": "b8bb21b4-d68e-42fc-8912-16d466421988",
   "metadata": {},
   "source": [
    "Alguns problemas de proporção podem acontecer, quando os dados são muito \"enviesados\". Posso citar um exemplo de games, por exemplo. Digamos que existe um algoritmo que bane automaticamente pessoas que usaram de comportamento tóxico dentro do jogo. E para testar a eficiência desse algoritmo, treinamos ele a partir da nossa base de dados. Apesar de uma acurácia super alta, temos que levar em conta que, dependendo da comunidade do jogo e da base de dados, a toxicidade não se encontra na maioria dos players, então uma acurácia muito alta, como 97%, pode não dizer muita coisa. Outra problemática é compararmos uma label com aspectos não bem definidos, como tentar prever qual cosmético um jogador irá comprar baseado no seu jogo, sendo que provavelmente algum conteúdo mais nichado passe em branco em relação aos conteúdos mais famosos."
   ]
  },
  {
   "cell_type": "markdown",
   "id": "92ba5cb8-5946-4e55-a155-a0009fe66fc9",
   "metadata": {},
   "source": [
    "## 7.0 - Explique com um pequeno texto ilustrando a diferença entre a métrica de Precision e Recall e mostrando quando usa deve ser escolhida em relação a outra"
   ]
  },
  {
   "cell_type": "markdown",
   "id": "38bc7746-a9f1-49fd-8a8e-06acbd110a46",
   "metadata": {},
   "source": [
    "Precision: precisão é uma questão de tentativa, acerto ou erro. Digamos que temos um desafio de 10 arremessos no basquete. Se em 5 arremessos, acertamos 5 sextas, nossa precisão será de 5/5 = 100%. Mas pesar de acertamos 100%, por conta do tempo que levamos para acertar, só fizemos 5 arremessos, e não os 10 permitidos.\n",
    "\n",
    "Recall: o Recall já vem justamente para medir essa quantidade de acertos. Temos 100% de precisão, mas nossa eficiência, nosso recall, foi de apenas 5/10 = 50%. \n",
    "\n",
    "Ou seja, quando vamos tentar resolver algum problema de Aprendizado Supervisionado com KNN, devemos olhar bem para o contexto e as características do problema, pois existem cenários em que a Precisão se mostra mais valiosa, assim como em outros contextos o Recall se mostra mais importante."
   ]
  },
  {
   "cell_type": "code",
   "execution_count": null,
   "id": "c46add5f-ed7c-4e9a-b6ef-89d7ea406ede",
   "metadata": {},
   "outputs": [],
   "source": []
  }
 ],
 "metadata": {
  "kernelspec": {
   "display_name": "Python 3 (ipykernel)",
   "language": "python",
   "name": "python3"
  },
  "language_info": {
   "codemirror_mode": {
    "name": "ipython",
    "version": 3
   },
   "file_extension": ".py",
   "mimetype": "text/x-python",
   "name": "python",
   "nbconvert_exporter": "python",
   "pygments_lexer": "ipython3",
   "version": "3.10.9"
  }
 },
 "nbformat": 4,
 "nbformat_minor": 5
}
