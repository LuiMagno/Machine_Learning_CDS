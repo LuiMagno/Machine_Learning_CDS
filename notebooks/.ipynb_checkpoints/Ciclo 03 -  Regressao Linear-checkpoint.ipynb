{
 "cells": [
  {
   "cell_type": "markdown",
   "id": "5ffeaff7-b229-4880-a0a2-fc361cc659bd",
   "metadata": {},
   "source": [
    "# Regressão Linear na prática"
   ]
  },
  {
   "cell_type": "markdown",
   "id": "84837aaa-4449-4b9e-b8f1-66d3da572094",
   "metadata": {},
   "source": [
    "## Imports"
   ]
  },
  {
   "cell_type": "code",
   "execution_count": 23,
   "id": "b0002e9a-225a-4251-a427-488a1c52f1cd",
   "metadata": {
    "tags": []
   },
   "outputs": [],
   "source": [
    "import pandas as pd\n",
    "import numpy as np\n",
    "\n",
    "from sklearn.linear_model import LinearRegression\n",
    "from sklearn import metrics as mt"
   ]
  },
  {
   "cell_type": "markdown",
   "id": "68d59cf5-477d-4fd7-93d5-c4d25042d382",
   "metadata": {},
   "source": [
    "## Load Dataset"
   ]
  },
  {
   "cell_type": "code",
   "execution_count": 2,
   "id": "ae3b09cb-5694-44eb-b401-61eb8a2932a4",
   "metadata": {
    "tags": []
   },
   "outputs": [
    {
     "data": {
      "text/html": [
       "<div>\n",
       "<style scoped>\n",
       "    .dataframe tbody tr th:only-of-type {\n",
       "        vertical-align: middle;\n",
       "    }\n",
       "\n",
       "    .dataframe tbody tr th {\n",
       "        vertical-align: top;\n",
       "    }\n",
       "\n",
       "    .dataframe thead th {\n",
       "        text-align: right;\n",
       "    }\n",
       "</style>\n",
       "<table border=\"1\" class=\"dataframe\">\n",
       "  <thead>\n",
       "    <tr style=\"text-align: right;\">\n",
       "      <th></th>\n",
       "      <th>id_cliente</th>\n",
       "      <th>idade</th>\n",
       "      <th>saldo_atual</th>\n",
       "      <th>divida_atual</th>\n",
       "      <th>renda_anual</th>\n",
       "      <th>valor_em_investimentos</th>\n",
       "      <th>taxa_utilizacao_credito</th>\n",
       "      <th>num_emprestimos</th>\n",
       "      <th>num_contas_bancarias</th>\n",
       "      <th>num_cartoes_credito</th>\n",
       "      <th>dias_atraso_dt_venc</th>\n",
       "      <th>num_pgtos_atrasados</th>\n",
       "      <th>num_consultas_credito</th>\n",
       "      <th>taxa_juros</th>\n",
       "      <th>investe_exterior</th>\n",
       "      <th>pessoa_polit_exp</th>\n",
       "      <th>limite_adicional</th>\n",
       "    </tr>\n",
       "  </thead>\n",
       "  <tbody>\n",
       "    <tr>\n",
       "      <th>0</th>\n",
       "      <td>1767</td>\n",
       "      <td>21</td>\n",
       "      <td>278.172008</td>\n",
       "      <td>2577.05</td>\n",
       "      <td>24196.89636</td>\n",
       "      <td>104.306544</td>\n",
       "      <td>31.038763</td>\n",
       "      <td>6</td>\n",
       "      <td>5</td>\n",
       "      <td>7</td>\n",
       "      <td>21</td>\n",
       "      <td>14</td>\n",
       "      <td>9</td>\n",
       "      <td>15</td>\n",
       "      <td>Não</td>\n",
       "      <td>Não</td>\n",
       "      <td>Negar</td>\n",
       "    </tr>\n",
       "    <tr>\n",
       "      <th>1</th>\n",
       "      <td>11920</td>\n",
       "      <td>40</td>\n",
       "      <td>268.874152</td>\n",
       "      <td>2465.39</td>\n",
       "      <td>19227.37796</td>\n",
       "      <td>69.858778</td>\n",
       "      <td>36.917093</td>\n",
       "      <td>5</td>\n",
       "      <td>8</td>\n",
       "      <td>5</td>\n",
       "      <td>40</td>\n",
       "      <td>23</td>\n",
       "      <td>10</td>\n",
       "      <td>18</td>\n",
       "      <td>Não</td>\n",
       "      <td>Não</td>\n",
       "      <td>Negar</td>\n",
       "    </tr>\n",
       "    <tr>\n",
       "      <th>2</th>\n",
       "      <td>8910</td>\n",
       "      <td>36</td>\n",
       "      <td>446.643127</td>\n",
       "      <td>1055.29</td>\n",
       "      <td>42822.28223</td>\n",
       "      <td>134.201478</td>\n",
       "      <td>34.561714</td>\n",
       "      <td>0</td>\n",
       "      <td>3</td>\n",
       "      <td>6</td>\n",
       "      <td>26</td>\n",
       "      <td>13</td>\n",
       "      <td>3</td>\n",
       "      <td>15</td>\n",
       "      <td>Sim</td>\n",
       "      <td>Não</td>\n",
       "      <td>Negar</td>\n",
       "    </tr>\n",
       "    <tr>\n",
       "      <th>3</th>\n",
       "      <td>4964</td>\n",
       "      <td>58</td>\n",
       "      <td>321.141267</td>\n",
       "      <td>703.05</td>\n",
       "      <td>51786.82600</td>\n",
       "      <td>297.350067</td>\n",
       "      <td>31.493561</td>\n",
       "      <td>0</td>\n",
       "      <td>3</td>\n",
       "      <td>7</td>\n",
       "      <td>12</td>\n",
       "      <td>7</td>\n",
       "      <td>2</td>\n",
       "      <td>1</td>\n",
       "      <td>Sim</td>\n",
       "      <td>Não</td>\n",
       "      <td>Negar</td>\n",
       "    </tr>\n",
       "    <tr>\n",
       "      <th>4</th>\n",
       "      <td>10100</td>\n",
       "      <td>35</td>\n",
       "      <td>428.716114</td>\n",
       "      <td>891.29</td>\n",
       "      <td>44626.85346</td>\n",
       "      <td>134.201478</td>\n",
       "      <td>28.028887</td>\n",
       "      <td>2</td>\n",
       "      <td>8</td>\n",
       "      <td>7</td>\n",
       "      <td>24</td>\n",
       "      <td>10</td>\n",
       "      <td>8</td>\n",
       "      <td>20</td>\n",
       "      <td>Sim</td>\n",
       "      <td>Não</td>\n",
       "      <td>Negar</td>\n",
       "    </tr>\n",
       "    <tr>\n",
       "      <th>...</th>\n",
       "      <td>...</td>\n",
       "      <td>...</td>\n",
       "      <td>...</td>\n",
       "      <td>...</td>\n",
       "      <td>...</td>\n",
       "      <td>...</td>\n",
       "      <td>...</td>\n",
       "      <td>...</td>\n",
       "      <td>...</td>\n",
       "      <td>...</td>\n",
       "      <td>...</td>\n",
       "      <td>...</td>\n",
       "      <td>...</td>\n",
       "      <td>...</td>\n",
       "      <td>...</td>\n",
       "      <td>...</td>\n",
       "      <td>...</td>\n",
       "    </tr>\n",
       "    <tr>\n",
       "      <th>9495</th>\n",
       "      <td>5155</td>\n",
       "      <td>29</td>\n",
       "      <td>157.500279</td>\n",
       "      <td>157.98</td>\n",
       "      <td>32624.67754</td>\n",
       "      <td>237.739275</td>\n",
       "      <td>32.407322</td>\n",
       "      <td>100</td>\n",
       "      <td>4</td>\n",
       "      <td>4</td>\n",
       "      <td>24</td>\n",
       "      <td>15</td>\n",
       "      <td>1</td>\n",
       "      <td>14</td>\n",
       "      <td>Sim</td>\n",
       "      <td>Não</td>\n",
       "      <td>Negar</td>\n",
       "    </tr>\n",
       "    <tr>\n",
       "      <th>9496</th>\n",
       "      <td>11977</td>\n",
       "      <td>1237</td>\n",
       "      <td>497.714090</td>\n",
       "      <td>805.43</td>\n",
       "      <td>49024.15700</td>\n",
       "      <td>118.883577</td>\n",
       "      <td>23.632195</td>\n",
       "      <td>0</td>\n",
       "      <td>4</td>\n",
       "      <td>7</td>\n",
       "      <td>10</td>\n",
       "      <td>11</td>\n",
       "      <td>2</td>\n",
       "      <td>3</td>\n",
       "      <td>Não</td>\n",
       "      <td>Não</td>\n",
       "      <td>Negar</td>\n",
       "    </tr>\n",
       "    <tr>\n",
       "      <th>9497</th>\n",
       "      <td>9278</td>\n",
       "      <td>47</td>\n",
       "      <td>306.557684</td>\n",
       "      <td>2250.42</td>\n",
       "      <td>42200.88978</td>\n",
       "      <td>134.201478</td>\n",
       "      <td>34.623576</td>\n",
       "      <td>4</td>\n",
       "      <td>4</td>\n",
       "      <td>4</td>\n",
       "      <td>13</td>\n",
       "      <td>8</td>\n",
       "      <td>4</td>\n",
       "      <td>24</td>\n",
       "      <td>Não</td>\n",
       "      <td>Não</td>\n",
       "      <td>Negar</td>\n",
       "    </tr>\n",
       "    <tr>\n",
       "      <th>9498</th>\n",
       "      <td>2525</td>\n",
       "      <td>42</td>\n",
       "      <td>209.870718</td>\n",
       "      <td>505.37</td>\n",
       "      <td>35391.32289</td>\n",
       "      <td>245.498881</td>\n",
       "      <td>28.758818</td>\n",
       "      <td>3</td>\n",
       "      <td>7</td>\n",
       "      <td>6</td>\n",
       "      <td>24</td>\n",
       "      <td>13</td>\n",
       "      <td>3</td>\n",
       "      <td>11</td>\n",
       "      <td>Sim</td>\n",
       "      <td>Não</td>\n",
       "      <td>Negar</td>\n",
       "    </tr>\n",
       "    <tr>\n",
       "      <th>9499</th>\n",
       "      <td>9636</td>\n",
       "      <td>35</td>\n",
       "      <td>971.407512</td>\n",
       "      <td>851.22</td>\n",
       "      <td>106192.53216</td>\n",
       "      <td>78.140488</td>\n",
       "      <td>30.528134</td>\n",
       "      <td>0</td>\n",
       "      <td>0</td>\n",
       "      <td>6</td>\n",
       "      <td>8</td>\n",
       "      <td>4</td>\n",
       "      <td>2377</td>\n",
       "      <td>3</td>\n",
       "      <td>Não</td>\n",
       "      <td>Não</td>\n",
       "      <td>Negar</td>\n",
       "    </tr>\n",
       "  </tbody>\n",
       "</table>\n",
       "<p>9500 rows × 17 columns</p>\n",
       "</div>"
      ],
      "text/plain": [
       "      id_cliente  idade  saldo_atual  divida_atual   renda_anual  \\\n",
       "0           1767     21   278.172008       2577.05   24196.89636   \n",
       "1          11920     40   268.874152       2465.39   19227.37796   \n",
       "2           8910     36   446.643127       1055.29   42822.28223   \n",
       "3           4964     58   321.141267        703.05   51786.82600   \n",
       "4          10100     35   428.716114        891.29   44626.85346   \n",
       "...          ...    ...          ...           ...           ...   \n",
       "9495        5155     29   157.500279        157.98   32624.67754   \n",
       "9496       11977   1237   497.714090        805.43   49024.15700   \n",
       "9497        9278     47   306.557684       2250.42   42200.88978   \n",
       "9498        2525     42   209.870718        505.37   35391.32289   \n",
       "9499        9636     35   971.407512        851.22  106192.53216   \n",
       "\n",
       "      valor_em_investimentos  taxa_utilizacao_credito  num_emprestimos  \\\n",
       "0                 104.306544                31.038763                6   \n",
       "1                  69.858778                36.917093                5   \n",
       "2                 134.201478                34.561714                0   \n",
       "3                 297.350067                31.493561                0   \n",
       "4                 134.201478                28.028887                2   \n",
       "...                      ...                      ...              ...   \n",
       "9495              237.739275                32.407322              100   \n",
       "9496              118.883577                23.632195                0   \n",
       "9497              134.201478                34.623576                4   \n",
       "9498              245.498881                28.758818                3   \n",
       "9499               78.140488                30.528134                0   \n",
       "\n",
       "      num_contas_bancarias  num_cartoes_credito  dias_atraso_dt_venc  \\\n",
       "0                        5                    7                   21   \n",
       "1                        8                    5                   40   \n",
       "2                        3                    6                   26   \n",
       "3                        3                    7                   12   \n",
       "4                        8                    7                   24   \n",
       "...                    ...                  ...                  ...   \n",
       "9495                     4                    4                   24   \n",
       "9496                     4                    7                   10   \n",
       "9497                     4                    4                   13   \n",
       "9498                     7                    6                   24   \n",
       "9499                     0                    6                    8   \n",
       "\n",
       "      num_pgtos_atrasados  num_consultas_credito  taxa_juros investe_exterior  \\\n",
       "0                      14                      9          15              Não   \n",
       "1                      23                     10          18              Não   \n",
       "2                      13                      3          15              Sim   \n",
       "3                       7                      2           1              Sim   \n",
       "4                      10                      8          20              Sim   \n",
       "...                   ...                    ...         ...              ...   \n",
       "9495                   15                      1          14              Sim   \n",
       "9496                   11                      2           3              Não   \n",
       "9497                    8                      4          24              Não   \n",
       "9498                   13                      3          11              Sim   \n",
       "9499                    4                   2377           3              Não   \n",
       "\n",
       "     pessoa_polit_exp limite_adicional  \n",
       "0                 Não            Negar  \n",
       "1                 Não            Negar  \n",
       "2                 Não            Negar  \n",
       "3                 Não            Negar  \n",
       "4                 Não            Negar  \n",
       "...               ...              ...  \n",
       "9495              Não            Negar  \n",
       "9496              Não            Negar  \n",
       "9497              Não            Negar  \n",
       "9498              Não            Negar  \n",
       "9499              Não            Negar  \n",
       "\n",
       "[9500 rows x 17 columns]"
      ]
     },
     "execution_count": 2,
     "metadata": {},
     "output_type": "execute_result"
    }
   ],
   "source": [
    "df_root = pd.read_csv('../dataset/train.csv')\n",
    "df = df_root.copy()\n",
    "df"
   ]
  },
  {
   "cell_type": "markdown",
   "id": "4c6cfb99-9b84-45f5-8599-0df2015ee251",
   "metadata": {},
   "source": [
    "## Data Preparation"
   ]
  },
  {
   "cell_type": "code",
   "execution_count": 3,
   "id": "35935d8e-7022-40ce-9aa6-dc1ca5535ff4",
   "metadata": {
    "tags": []
   },
   "outputs": [
    {
     "data": {
      "text/plain": [
       "Index(['id_cliente', 'idade', 'saldo_atual', 'divida_atual', 'renda_anual',\n",
       "       'valor_em_investimentos', 'taxa_utilizacao_credito', 'num_emprestimos',\n",
       "       'num_contas_bancarias', 'num_cartoes_credito', 'dias_atraso_dt_venc',\n",
       "       'num_pgtos_atrasados', 'num_consultas_credito', 'taxa_juros',\n",
       "       'investe_exterior', 'pessoa_polit_exp', 'limite_adicional'],\n",
       "      dtype='object')"
      ]
     },
     "execution_count": 3,
     "metadata": {},
     "output_type": "execute_result"
    }
   ],
   "source": [
    "df.columns"
   ]
  },
  {
   "cell_type": "code",
   "execution_count": 48,
   "id": "bdf86b9e-d42f-484d-b9b9-da7be078e653",
   "metadata": {
    "tags": []
   },
   "outputs": [],
   "source": [
    "features = [ 'idade', 'divida_atual', 'renda_anual',\n",
    "       'valor_em_investimentos', 'taxa_utilizacao_credito', 'num_emprestimos',\n",
    "       'num_contas_bancarias', 'num_cartoes_credito', 'dias_atraso_dt_venc',\n",
    "       'num_pgtos_atrasados', 'num_consultas_credito', 'taxa_juros']\n",
    "\n",
    "label = ['saldo_atual']\n",
    "\n",
    "x_train = df.loc[:, features]\n",
    "y_train = df.loc[:, label]"
   ]
  },
  {
   "cell_type": "markdown",
   "id": "0a8f55b9-02cd-448a-94a1-a904f75f39a0",
   "metadata": {},
   "source": [
    "## Model Training"
   ]
  },
  {
   "cell_type": "code",
   "execution_count": 49,
   "id": "6d6258ef-e211-4cde-86a4-f65f7e205b72",
   "metadata": {
    "tags": []
   },
   "outputs": [],
   "source": [
    "# Definição do Modelo\n",
    "lr_model = LinearRegression()\n",
    "\n",
    "# Treinamento do modelo (ajuste, treinamento)\n",
    "lr_model.fit(x_train, y_train)\n",
    "\n",
    "# Previsão\n",
    "y_pred = lr_model.predict(x_train)"
   ]
  },
  {
   "cell_type": "code",
   "execution_count": 50,
   "id": "1ced4cf8-5701-43db-97cf-e643a748d7b7",
   "metadata": {
    "tags": []
   },
   "outputs": [
    {
     "data": {
      "text/html": [
       "<div>\n",
       "<style scoped>\n",
       "    .dataframe tbody tr th:only-of-type {\n",
       "        vertical-align: middle;\n",
       "    }\n",
       "\n",
       "    .dataframe tbody tr th {\n",
       "        vertical-align: top;\n",
       "    }\n",
       "\n",
       "    .dataframe thead th {\n",
       "        text-align: right;\n",
       "    }\n",
       "</style>\n",
       "<table border=\"1\" class=\"dataframe\">\n",
       "  <thead>\n",
       "    <tr style=\"text-align: right;\">\n",
       "      <th></th>\n",
       "      <th>id_cliente</th>\n",
       "      <th>saldo_atual</th>\n",
       "      <th>previsao</th>\n",
       "    </tr>\n",
       "  </thead>\n",
       "  <tbody>\n",
       "    <tr>\n",
       "      <th>0</th>\n",
       "      <td>1767</td>\n",
       "      <td>278.172008</td>\n",
       "      <td>346.669549</td>\n",
       "    </tr>\n",
       "    <tr>\n",
       "      <th>1</th>\n",
       "      <td>11920</td>\n",
       "      <td>268.874152</td>\n",
       "      <td>367.840277</td>\n",
       "    </tr>\n",
       "    <tr>\n",
       "      <th>2</th>\n",
       "      <td>8910</td>\n",
       "      <td>446.643127</td>\n",
       "      <td>431.468979</td>\n",
       "    </tr>\n",
       "    <tr>\n",
       "      <th>3</th>\n",
       "      <td>4964</td>\n",
       "      <td>321.141267</td>\n",
       "      <td>445.506463</td>\n",
       "    </tr>\n",
       "    <tr>\n",
       "      <th>4</th>\n",
       "      <td>10100</td>\n",
       "      <td>428.716114</td>\n",
       "      <td>378.271169</td>\n",
       "    </tr>\n",
       "    <tr>\n",
       "      <th>5</th>\n",
       "      <td>2755</td>\n",
       "      <td>327.437723</td>\n",
       "      <td>352.483346</td>\n",
       "    </tr>\n",
       "    <tr>\n",
       "      <th>6</th>\n",
       "      <td>2859</td>\n",
       "      <td>635.332001</td>\n",
       "      <td>410.604085</td>\n",
       "    </tr>\n",
       "    <tr>\n",
       "      <th>7</th>\n",
       "      <td>5569</td>\n",
       "      <td>213.441895</td>\n",
       "      <td>210.685639</td>\n",
       "    </tr>\n",
       "    <tr>\n",
       "      <th>8</th>\n",
       "      <td>11674</td>\n",
       "      <td>566.245423</td>\n",
       "      <td>388.619965</td>\n",
       "    </tr>\n",
       "    <tr>\n",
       "      <th>9</th>\n",
       "      <td>5779</td>\n",
       "      <td>272.577709</td>\n",
       "      <td>301.147706</td>\n",
       "    </tr>\n",
       "  </tbody>\n",
       "</table>\n",
       "</div>"
      ],
      "text/plain": [
       "   id_cliente  saldo_atual    previsao\n",
       "0        1767   278.172008  346.669549\n",
       "1       11920   268.874152  367.840277\n",
       "2        8910   446.643127  431.468979\n",
       "3        4964   321.141267  445.506463\n",
       "4       10100   428.716114  378.271169\n",
       "5        2755   327.437723  352.483346\n",
       "6        2859   635.332001  410.604085\n",
       "7        5569   213.441895  210.685639\n",
       "8       11674   566.245423  388.619965\n",
       "9        5779   272.577709  301.147706"
      ]
     },
     "execution_count": 50,
     "metadata": {},
     "output_type": "execute_result"
    }
   ],
   "source": [
    "# Valores\n",
    "df_pred = df.loc[:, ['id_cliente', 'saldo_atual']]\n",
    "df_pred['previsao'] = y_pred\n",
    "\n",
    "df_pred.head(10)"
   ]
  },
  {
   "cell_type": "code",
   "execution_count": 51,
   "id": "3a2fd93a-c135-4464-8a54-860a61fbe3c3",
   "metadata": {
    "tags": []
   },
   "outputs": [
    {
     "data": {
      "text/plain": [
       "array([[ 3.96706202e-04, -4.00595601e-02,  2.77622532e-06,\n",
       "        -1.04318668e-03,  9.80890872e+00, -1.22353405e-02,\n",
       "        -6.33015538e-03, -3.57808095e-03, -2.15858165e+00,\n",
       "         3.77570060e-04,  6.79176336e-03,  3.48471845e-03]])"
      ]
     },
     "execution_count": 51,
     "metadata": {},
     "output_type": "execute_result"
    }
   ],
   "source": [
    "lr_model.coef_ #coeficientes da reta"
   ]
  },
  {
   "cell_type": "markdown",
   "id": "1bb71aca-6c5d-4892-a0a3-9c87dc5e76cb",
   "metadata": {},
   "source": [
    "## Performance"
   ]
  },
  {
   "cell_type": "markdown",
   "id": "ab210616-8b54-49cc-89ee-e085386e7bab",
   "metadata": {},
   "source": [
    "### Testando várias variáveis, várias features"
   ]
  },
  {
   "cell_type": "code",
   "execution_count": 52,
   "id": "e3a567c8-99b5-49fc-a3d0-a131eee5d75e",
   "metadata": {},
   "outputs": [
    {
     "data": {
      "text/plain": [
       "0.16917364489050013"
      ]
     },
     "execution_count": 52,
     "metadata": {},
     "output_type": "execute_result"
    }
   ],
   "source": [
    "# Mostrando o R2 do meu modelo anteriormente feito, com todas as features\n",
    "mt.r2_score(y_train, y_pred)"
   ]
  },
  {
   "cell_type": "markdown",
   "id": "4a4a867c-321b-4410-948d-a98a2869a8a1",
   "metadata": {
    "tags": []
   },
   "source": [
    "### Testando \"idade\", \"divida_atual\" e \"renda_anual\""
   ]
  },
  {
   "cell_type": "code",
   "execution_count": 26,
   "id": "828d9c6c-5b6a-46a9-b466-1a4f3d5e8588",
   "metadata": {
    "tags": []
   },
   "outputs": [],
   "source": [
    "features_teste = [\"idade\", \"divida_atual\", \"renda_anual\"]\n",
    "\n",
    "x_train = df.loc[:, features_teste] # O x_train que muda, o y_train se mantém o mesmo, pois o label é o mesmo."
   ]
  },
  {
   "cell_type": "markdown",
   "id": "47e744fc-a039-43e6-976c-81ef0ed42571",
   "metadata": {},
   "source": [
    "#### Treinando o modelo..."
   ]
  },
  {
   "cell_type": "code",
   "execution_count": 27,
   "id": "945f284a-8767-47ea-bbd7-ff43f0667208",
   "metadata": {
    "tags": []
   },
   "outputs": [],
   "source": [
    "# Definição do Modelo\n",
    "lr_model = LinearRegression()\n",
    "\n",
    "# Treinamento do modelo (ajuste, treinamento)\n",
    "lr_model.fit(x_train, y_train)\n",
    "\n",
    "# Previsão\n",
    "y_pred = lr_model.predict(x_train)"
   ]
  },
  {
   "cell_type": "code",
   "execution_count": 36,
   "id": "e0223f53-587b-42d6-bb44-ded6ca168385",
   "metadata": {
    "tags": []
   },
   "outputs": [
    {
     "data": {
      "text/html": [
       "<div>\n",
       "<style scoped>\n",
       "    .dataframe tbody tr th:only-of-type {\n",
       "        vertical-align: middle;\n",
       "    }\n",
       "\n",
       "    .dataframe tbody tr th {\n",
       "        vertical-align: top;\n",
       "    }\n",
       "\n",
       "    .dataframe thead th {\n",
       "        text-align: right;\n",
       "    }\n",
       "</style>\n",
       "<table border=\"1\" class=\"dataframe\">\n",
       "  <thead>\n",
       "    <tr style=\"text-align: right;\">\n",
       "      <th></th>\n",
       "      <th>id_cliente</th>\n",
       "      <th>saldo_atual</th>\n",
       "      <th>previsao</th>\n",
       "    </tr>\n",
       "  </thead>\n",
       "  <tbody>\n",
       "    <tr>\n",
       "      <th>0</th>\n",
       "      <td>1767</td>\n",
       "      <td>278.172008</td>\n",
       "      <td>346.296731</td>\n",
       "    </tr>\n",
       "    <tr>\n",
       "      <th>1</th>\n",
       "      <td>11920</td>\n",
       "      <td>268.874152</td>\n",
       "      <td>367.469170</td>\n",
       "    </tr>\n",
       "    <tr>\n",
       "      <th>2</th>\n",
       "      <td>8910</td>\n",
       "      <td>446.643127</td>\n",
       "      <td>431.069457</td>\n",
       "    </tr>\n",
       "    <tr>\n",
       "      <th>3</th>\n",
       "      <td>4964</td>\n",
       "      <td>321.141267</td>\n",
       "      <td>445.280400</td>\n",
       "    </tr>\n",
       "    <tr>\n",
       "      <th>4</th>\n",
       "      <td>10100</td>\n",
       "      <td>428.716114</td>\n",
       "      <td>377.825596</td>\n",
       "    </tr>\n",
       "    <tr>\n",
       "      <th>5</th>\n",
       "      <td>2755</td>\n",
       "      <td>327.437723</td>\n",
       "      <td>352.050090</td>\n",
       "    </tr>\n",
       "    <tr>\n",
       "      <th>6</th>\n",
       "      <td>2859</td>\n",
       "      <td>635.332001</td>\n",
       "      <td>410.230239</td>\n",
       "    </tr>\n",
       "    <tr>\n",
       "      <th>7</th>\n",
       "      <td>5569</td>\n",
       "      <td>213.441895</td>\n",
       "      <td>210.398269</td>\n",
       "    </tr>\n",
       "    <tr>\n",
       "      <th>8</th>\n",
       "      <td>11674</td>\n",
       "      <td>566.245423</td>\n",
       "      <td>388.312036</td>\n",
       "    </tr>\n",
       "    <tr>\n",
       "      <th>9</th>\n",
       "      <td>5779</td>\n",
       "      <td>272.577709</td>\n",
       "      <td>300.654427</td>\n",
       "    </tr>\n",
       "  </tbody>\n",
       "</table>\n",
       "</div>"
      ],
      "text/plain": [
       "   id_cliente  saldo_atual    previsao\n",
       "0        1767   278.172008  346.296731\n",
       "1       11920   268.874152  367.469170\n",
       "2        8910   446.643127  431.069457\n",
       "3        4964   321.141267  445.280400\n",
       "4       10100   428.716114  377.825596\n",
       "5        2755   327.437723  352.050090\n",
       "6        2859   635.332001  410.230239\n",
       "7        5569   213.441895  210.398269\n",
       "8       11674   566.245423  388.312036\n",
       "9        5779   272.577709  300.654427"
      ]
     },
     "execution_count": 36,
     "metadata": {},
     "output_type": "execute_result"
    }
   ],
   "source": [
    "# Valores\n",
    "df_pred = df.loc[:, ['id_cliente', 'saldo_atual']]\n",
    "df_pred['previsao'] = y_pred\n",
    "\n",
    "df_pred.head(10)"
   ]
  },
  {
   "cell_type": "code",
   "execution_count": 31,
   "id": "1466e614-4ae8-4baf-9875-7bdc6cc14d7e",
   "metadata": {
    "tags": []
   },
   "outputs": [
    {
     "data": {
      "text/plain": [
       "0.10045480225396786"
      ]
     },
     "execution_count": 31,
     "metadata": {},
     "output_type": "execute_result"
    }
   ],
   "source": [
    "mt.r2_score(y_train, y_pred)"
   ]
  },
  {
   "cell_type": "markdown",
   "id": "dc7d03e5-c0a7-4d7b-841a-f16c7d8eab9e",
   "metadata": {},
   "source": [
    "### Experimento 02 - Labels que eu acho que importam mais..."
   ]
  },
  {
   "cell_type": "code",
   "execution_count": 92,
   "id": "d8df31c4-840e-449a-896f-40a899c4f0d4",
   "metadata": {
    "tags": []
   },
   "outputs": [],
   "source": [
    "# O que eu acho que explica o saldo atual? Vamos fazer um experimento...\n",
    "\n",
    "# Acho que\n",
    "features_teste = [ 'divida_atual',\n",
    "      'taxa_utilizacao_credito', 'dias_atraso_dt_venc']\n",
    "\n",
    "x_train = df.loc[:, features_teste] # O x_train que muda, o y_train se mantém o mesmo, pois o label é o mesmo."
   ]
  },
  {
   "cell_type": "markdown",
   "id": "9d581474-ed49-40c5-8707-b8da923aaad9",
   "metadata": {},
   "source": [
    "#### Treinando o modelo..."
   ]
  },
  {
   "cell_type": "code",
   "execution_count": 93,
   "id": "46805ca9-b7cf-4faa-9264-131aeaafaf56",
   "metadata": {
    "tags": []
   },
   "outputs": [],
   "source": [
    "# Instanciando meu modelo\n",
    "reg = LinearRegression()\n",
    "\n",
    "# Treinando meu modelo com x_train e y_train\n",
    "reg.fit(x_train, y_train)\n",
    "\n",
    "# Prevendo\n",
    "y_pred = reg.predict(x_train)"
   ]
  },
  {
   "cell_type": "code",
   "execution_count": 94,
   "id": "83c7e3f9-65d2-4592-ad12-0bafcce78ebf",
   "metadata": {
    "tags": []
   },
   "outputs": [
    {
     "data": {
      "text/plain": [
       "0.16861830221419905"
      ]
     },
     "execution_count": 94,
     "metadata": {},
     "output_type": "execute_result"
    }
   ],
   "source": [
    "mt.r2_score(y_train, y_pred)"
   ]
  },
  {
   "cell_type": "code",
   "execution_count": null,
   "id": "f5ddd57a-16a2-43ec-8c6a-6b32189c07e8",
   "metadata": {},
   "outputs": [],
   "source": []
  }
 ],
 "metadata": {
  "kernelspec": {
   "display_name": "Python 3 (ipykernel)",
   "language": "python",
   "name": "python3"
  },
  "language_info": {
   "codemirror_mode": {
    "name": "ipython",
    "version": 3
   },
   "file_extension": ".py",
   "mimetype": "text/x-python",
   "name": "python",
   "nbconvert_exporter": "python",
   "pygments_lexer": "ipython3",
   "version": "3.11.5"
  }
 },
 "nbformat": 4,
 "nbformat_minor": 5
}
