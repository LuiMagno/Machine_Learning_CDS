{
 "cells": [
  {
   "cell_type": "code",
   "execution_count": 5,
   "id": "ead3a1be-2db9-4004-b3c9-9a69b054a7ab",
   "metadata": {
    "tags": []
   },
   "outputs": [],
   "source": [
    "from matplotlib import pyplot as plt\n",
    "from sklearn import datasets as dt\n",
    "from sklearn import cluster as c\n",
    "import numpy as np"
   ]
  },
  {
   "cell_type": "code",
   "execution_count": 6,
   "id": "f1ce789d-2f32-40f2-8ec2-57f6ceb017ac",
   "metadata": {
    "tags": []
   },
   "outputs": [],
   "source": [
    "# dataset\n",
    "X = np.array( [\n",
    "[3, 4, 3, 2, 1],\n",
    "[4, 3, 5, 1, 1],\n",
    "[3, 5, 3, 3, 3],\n",
    "[2, 1, 3, 3, 2],\n",
    "[1, 1, 3, 2, 3]\n",
    "])\n"
   ]
  },
  {
   "cell_type": "code",
   "execution_count": 7,
   "id": "c1e75b30-233f-48ab-a800-454e4883709b",
   "metadata": {
    "tags": []
   },
   "outputs": [],
   "source": [
    "# training model\n",
    "model = c.AffinityPropagation()\n",
    "model.fit( X )\n",
    "\n",
    "# clustering data\n",
    "labels = model.predict( X )"
   ]
  },
  {
   "cell_type": "code",
   "execution_count": null,
   "id": "da6ae29e-b0ed-4bd6-884d-1a684377a21b",
   "metadata": {},
   "outputs": [],
   "source": []
  }
 ],
 "metadata": {
  "kernelspec": {
   "display_name": "Python 3 (ipykernel)",
   "language": "python",
   "name": "python3"
  },
  "language_info": {
   "codemirror_mode": {
    "name": "ipython",
    "version": 3
   },
   "file_extension": ".py",
   "mimetype": "text/x-python",
   "name": "python",
   "nbconvert_exporter": "python",
   "pygments_lexer": "ipython3",
   "version": "3.11.5"
  }
 },
 "nbformat": 4,
 "nbformat_minor": 5
}
