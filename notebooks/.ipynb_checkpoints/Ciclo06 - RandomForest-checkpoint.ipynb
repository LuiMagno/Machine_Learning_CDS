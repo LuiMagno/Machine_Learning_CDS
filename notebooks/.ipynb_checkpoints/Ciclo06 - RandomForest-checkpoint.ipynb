{
 "cells": [
  {
   "cell_type": "markdown",
   "id": "29b0cf41-06f0-45ef-8420-05422c56cab2",
   "metadata": {},
   "source": [
    "# 0. Imports"
   ]
  },
  {
   "cell_type": "code",
   "execution_count": 25,
   "id": "ec1d20e7-1044-4171-a1eb-75e98e459a39",
   "metadata": {
    "tags": []
   },
   "outputs": [],
   "source": [
    "from sklearn import datasets as ds\n",
    "from sklearn import model_selection as ms\n",
    "from sklearn import ensemble as en\n",
    "from sklearn import metrics as mt\n",
    "from matplotlib import pyplot as plt"
   ]
  },
  {
   "cell_type": "markdown",
   "id": "dc130db1-71ac-486d-8df1-340b78e55028",
   "metadata": {},
   "source": [
    "# 1.0 Load Dataset"
   ]
  },
  {
   "cell_type": "code",
   "execution_count": 27,
   "id": "d2d7f352-0801-4f66-8c7d-6189be95a298",
   "metadata": {
    "tags": []
   },
   "outputs": [],
   "source": [
    "# generate 2 class dataset\n",
    "X, y = make_classification(n_samples=1000, n_classes=2, random_state=1)"
   ]
  },
  {
   "cell_type": "code",
   "execution_count": 32,
   "id": "da9d6efd-bddc-4b80-bb62-49bf27153014",
   "metadata": {
    "tags": []
   },
   "outputs": [],
   "source": [
    "X_train, X_test, y_train, y_test = ms.train_test_split(X, y, test_size=0.5, random_state=2)"
   ]
  },
  {
   "cell_type": "markdown",
   "id": "2ba523c4-7812-4f63-83ce-610fc4e3a665",
   "metadata": {
    "tags": []
   },
   "source": [
    "# 2.0 Model Training"
   ]
  },
  {
   "cell_type": "code",
   "execution_count": 40,
   "id": "11f06f8c-79fd-4bc0-92ef-587bd2d16dc4",
   "metadata": {
    "tags": []
   },
   "outputs": [],
   "source": [
    "# definition\n",
    "model = en.RandomForestClassifier(n_estimators=3, max_depth=2, random_state=0)\n",
    "\n",
    "# train fit\n",
    "model.fit(X_train, y_train)\n",
    "\n",
    "# performance\n",
    "yhat_test = model.predict_proba(X_test)[:, 1]"
   ]
  },
  {
   "cell_type": "markdown",
   "id": "8be218d0-3943-441c-8aaf-c07357abf77f",
   "metadata": {},
   "source": [
    "# 3.0 ROC Curve"
   ]
  },
  {
   "cell_type": "code",
   "execution_count": 41,
   "id": "c46791fa-16ee-442f-aaaa-412e3db08534",
   "metadata": {
    "tags": []
   },
   "outputs": [],
   "source": [
    "fpr, tpr, th = mt.roc_curve(y_test, yhat_test)\n",
    "\n",
    "# Calculate AUC score\n",
    "auc_score = mt.roc_auc_score(y_test, yhat_test)"
   ]
  },
  {
   "cell_type": "code",
   "execution_count": 42,
   "id": "9ba12f9d-f21f-4031-8bb2-488884844ce7",
   "metadata": {
    "tags": []
   },
   "outputs": [
    {
     "data": {
      "text/plain": [
       "[<matplotlib.lines.Line2D at 0x2a88e6ba990>,\n",
       " <matplotlib.lines.Line2D at 0x2a88e664e90>]"
      ]
     },
     "execution_count": 42,
     "metadata": {},
     "output_type": "execute_result"
    },
    {
     "data": {
      "image/png": "[encoded data removed]",
      "text/plain": [
       "<Figure size 640x480 with 1 Axes>"
      ]
     },
     "metadata": {},
     "output_type": "display_data"
    }
   ],
   "source": [
    "plt.plot(fpr, tpr, th, color='b')"
   ]
  },
  {
   "cell_type": "code",
   "execution_count": null,
   "id": "2d5c8f14-b14b-4fbd-badd-16eb5b8c1891",
   "metadata": {},
   "outputs": [],
   "source": []
  }
 ],
 "metadata": {
  "kernelspec": {
   "display_name": "Python 3 (ipykernel)",
   "language": "python",
   "name": "python3"
  },
  "language_info": {
   "codemirror_mode": {
    "name": "ipython",
    "version": 3
   },
   "file_extension": ".py",
   "mimetype": "text/x-python",
   "name": "python",
   "nbconvert_exporter": "python",
   "pygments_lexer": "ipython3",
   "version": "3.11.5"
  }
 },
 "nbformat": 4,
 "nbformat_minor": 5
}
