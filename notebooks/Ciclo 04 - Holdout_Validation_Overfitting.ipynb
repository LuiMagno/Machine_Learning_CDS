{
 "cells": [
  {
   "cell_type": "markdown",
   "id": "6d613943-d169-4ee9-b17e-1303ccfdd02a",
   "metadata": {
    "tags": []
   },
   "source": [
    "# 1.0 Treinamento do Lui: DS Novato"
   ]
  },
  {
   "cell_type": "markdown",
   "id": "8fb2c3e1-33f8-4116-8c9d-960c66f576f6",
   "metadata": {},
   "source": [
    "## Dados sintéticos"
   ]
  },
  {
   "cell_type": "code",
   "execution_count": 18,
   "id": "bf3d9555-12e1-4a07-a5ba-f72f20f137b2",
   "metadata": {
    "tags": []
   },
   "outputs": [],
   "source": [
    "from sklearn import datasets as ds\n",
    "from sklearn import model_selection as ms\n",
    "from sklearn import tree as tr\n",
    "from sklearn import metrics as mt\n",
    "\n",
    "from matplotlib import pyplot as plt\n",
    "\n",
    "import pandas as pd\n",
    "import numpy as np"
   ]
  },
  {
   "cell_type": "code",
   "execution_count": 72,
   "id": "fcc50cc4-45df-478e-9ccb-8606b17400dd",
   "metadata": {
    "tags": []
   },
   "outputs": [],
   "source": [
    "n_samples = 20000\n",
    "n_features = 2\n",
    "n_informative = 2\n",
    "n_redundant = 0\n",
    "random_state = 0\n",
    "\n",
    "# Essa funcão serve para criar datasets para treino e teste\n",
    "x, y = ds.make_classification( n_samples= n_samples,\n",
    "                        n_features= n_features,\n",
    "                        n_informative= n_informative,\n",
    "                        n_redundant= n_redundant ,\n",
    "                        random_state= random_state )\n",
    "\n",
    "# Dataset de produção\n",
    "X, X_prod, y, y_prod = ms.train_test_split(x, y, test_size = 0.2)"
   ]
  },
  {
   "cell_type": "code",
   "execution_count": 73,
   "id": "16fdd086-e808-4d61-972b-d03f2d4892ef",
   "metadata": {
    "tags": []
   },
   "outputs": [
    {
     "data": {
      "text/plain": [
       "(20000, 2)"
      ]
     },
     "execution_count": 73,
     "metadata": {},
     "output_type": "execute_result"
    }
   ],
   "source": [
    "# Transformando a resposta em Dataframe\n",
    "df = pd.DataFrame(x)\n",
    "df.shape"
   ]
  },
  {
   "cell_type": "code",
   "execution_count": 74,
   "id": "e9991550-3d64-4c63-b557-3ab6ae5238ed",
   "metadata": {
    "tags": []
   },
   "outputs": [
    {
     "data": {
      "text/html": [
       "<div>\n",
       "<style scoped>\n",
       "    .dataframe tbody tr th:only-of-type {\n",
       "        vertical-align: middle;\n",
       "    }\n",
       "\n",
       "    .dataframe tbody tr th {\n",
       "        vertical-align: top;\n",
       "    }\n",
       "\n",
       "    .dataframe thead th {\n",
       "        text-align: right;\n",
       "    }\n",
       "</style>\n",
       "<table border=\"1\" class=\"dataframe\">\n",
       "  <thead>\n",
       "    <tr style=\"text-align: right;\">\n",
       "      <th></th>\n",
       "      <th>0</th>\n",
       "      <th>1</th>\n",
       "    </tr>\n",
       "  </thead>\n",
       "  <tbody>\n",
       "    <tr>\n",
       "      <th>0</th>\n",
       "      <td>2.022874</td>\n",
       "      <td>0.285346</td>\n",
       "    </tr>\n",
       "    <tr>\n",
       "      <th>1</th>\n",
       "      <td>0.549895</td>\n",
       "      <td>0.701021</td>\n",
       "    </tr>\n",
       "    <tr>\n",
       "      <th>2</th>\n",
       "      <td>-0.659376</td>\n",
       "      <td>0.116066</td>\n",
       "    </tr>\n",
       "    <tr>\n",
       "      <th>3</th>\n",
       "      <td>0.967521</td>\n",
       "      <td>-1.060414</td>\n",
       "    </tr>\n",
       "    <tr>\n",
       "      <th>4</th>\n",
       "      <td>-1.796434</td>\n",
       "      <td>-2.093534</td>\n",
       "    </tr>\n",
       "  </tbody>\n",
       "</table>\n",
       "</div>"
      ],
      "text/plain": [
       "          0         1\n",
       "0  2.022874  0.285346\n",
       "1  0.549895  0.701021\n",
       "2 -0.659376  0.116066\n",
       "3  0.967521 -1.060414\n",
       "4 -1.796434 -2.093534"
      ]
     },
     "execution_count": 74,
     "metadata": {},
     "output_type": "execute_result"
    }
   ],
   "source": [
    "df.head()"
   ]
  },
  {
   "cell_type": "markdown",
   "id": "390f31d2-2b60-4898-acea-e64ab909f726",
   "metadata": {},
   "source": [
    "## Não há separação dos dados"
   ]
  },
  {
   "cell_type": "code",
   "execution_count": 75,
   "id": "46574b75-b95e-4634-b823-9eb8675511da",
   "metadata": {
    "tags": []
   },
   "outputs": [
    {
     "name": "stdout",
     "output_type": "stream",
     "text": [
      "Acurácia em cima do treino: 1.0\n"
     ]
    }
   ],
   "source": [
    "# Define o modelo\n",
    "model = tr.DecisionTreeClassifier( max_depth=  38 )\n",
    "model.fit(X, y)\n",
    "\n",
    "# Classificação sobre os dados de treinamento\n",
    "yhat = model.predict( X )\n",
    "acc = mt.accuracy_score(y, yhat) \n",
    "\n",
    "print('Acurácia em cima do treino: {}'.format(acc))"
   ]
  },
  {
   "cell_type": "markdown",
   "id": "a803e633-8b90-466a-8e9a-e43bf8313fe7",
   "metadata": {},
   "source": [
    "## Publicação do Modelo em Produção"
   ]
  },
  {
   "cell_type": "code",
   "execution_count": 76,
   "id": "770050b7-456c-4453-8029-c449c19e552f",
   "metadata": {
    "tags": []
   },
   "outputs": [
    {
     "name": "stdout",
     "output_type": "stream",
     "text": [
      "Acurácia em cima da produção: 0.84725\n"
     ]
    }
   ],
   "source": [
    "yhat_prod = model.predict (X_prod)\n",
    "acc_prod = acc = mt.accuracy_score(y_prod, yhat_prod) \n",
    "\n",
    "print('Acurácia em cima da produção: {}'.format(acc_prod))"
   ]
  },
  {
   "cell_type": "markdown",
   "id": "8d9a44b1-a242-4a0c-9611-d257cf3b37a2",
   "metadata": {},
   "source": [
    "## Estratégia Treino-Teste"
   ]
  },
  {
   "cell_type": "code",
   "execution_count": 77,
   "id": "37c4b679-e6e3-4e7f-a0e4-a2b5b23ba85c",
   "metadata": {
    "tags": []
   },
   "outputs": [],
   "source": [
    "# Separa os dados em Treinamento e Teste\n",
    "X_train, X_test, y_train, y_test = ms.train_test_split(X, y, test_size = 0.2, random_state = random_state)"
   ]
  },
  {
   "cell_type": "code",
   "execution_count": 78,
   "id": "eca5fca6-331b-4568-b11a-65e5f55fc4a0",
   "metadata": {
    "tags": []
   },
   "outputs": [
    {
     "name": "stdout",
     "output_type": "stream",
     "text": [
      "Acurácia em cima do teste: 0.8490625\n"
     ]
    }
   ],
   "source": [
    "# Modelo treinando com os dados de treinamento\n",
    "model = tr.DecisionTreeClassifier( max_depth=  38 )\n",
    "model.fit(X_train, y_train)\n",
    "\n",
    "# Classificacao sobre os dados de teste\n",
    "yhat_test = model.predict(X_test)\n",
    "acc_test = mt.accuracy_score(y_test, yhat_test) \n",
    "\n",
    "print('Acurácia em cima do teste: {}'.format(acc_test))"
   ]
  },
  {
   "cell_type": "markdown",
   "id": "23e0dc0d-e249-4b56-85ae-53e9852209b7",
   "metadata": {},
   "source": [
    "## Escolha os parâmetros do algoritmo"
   ]
  },
  {
   "cell_type": "code",
   "execution_count": 79,
   "id": "a599fc8a-0572-44f0-bf77-9cc55db9fd3c",
   "metadata": {
    "tags": []
   },
   "outputs": [],
   "source": [
    "values = [i for i in range(1, 60)]\n",
    "\n",
    "test_score = list()\n",
    "for i in values:\n",
    "    model = tr.DecisionTreeClassifier( max_depth = i)\n",
    "    model.fit (X_train, y_train)\n",
    "    \n",
    "    # Classificacao sobre o teste\n",
    "    yhat_test = model.predict( X_test )\n",
    "    acc_test = mt.accuracy_score(y_test, yhat_test)\n",
    "    \n",
    "    test_score.append (acc_test)"
   ]
  },
  {
   "cell_type": "code",
   "execution_count": 80,
   "id": "e0297c9a-27c9-405a-95bb-b6c8337f942b",
   "metadata": {
    "tags": []
   },
   "outputs": [
    {
     "data": {
      "text/plain": [
       "[<matplotlib.lines.Line2D at 0x2389c48d050>]"
      ]
     },
     "execution_count": 80,
     "metadata": {},
     "output_type": "execute_result"
    },
    {
     "data": {
      "image/png": "[encoded data removed]",
      "text/plain": [
       "<Figure size 640x480 with 1 Axes>"
      ]
     },
     "metadata": {},
     "output_type": "display_data"
    }
   ],
   "source": [
    "# Vamos plotar os resultados\n",
    "plt.plot(values, test_score, '-o', label='test')"
   ]
  },
  {
   "cell_type": "markdown",
   "id": "c4635edc-5d05-45c9-8cfd-62246c7e6209",
   "metadata": {},
   "source": [
    "## Publicação do Algoritmo em Produção"
   ]
  },
  {
   "cell_type": "code",
   "execution_count": 81,
   "id": "599e95a1-936c-4e35-bdd1-66f927c3a1f1",
   "metadata": {
    "tags": []
   },
   "outputs": [
    {
     "name": "stdout",
     "output_type": "stream",
     "text": [
      "Acurácia em cima da produção: 0.888\n"
     ]
    }
   ],
   "source": [
    "# Modelo treinado\n",
    "model_last = tr.DecisionTreeClassifier(max_depth = 8)\n",
    "model_last.fit(np.concatenate((X_train, X_test)),\n",
    "               np.concatenate((y_train, y_test))\n",
    "              )\n",
    "\n",
    "# Classificacao sobre os dados de producao\n",
    "yhat_prod = model_last.predict ( X_prod )\n",
    "acc_prod = mt.accuracy_score(y_prod, yhat_prod)\n",
    "\n",
    "print('Acurácia em cima da produção: {}'.format(acc_prod))"
   ]
  },
  {
   "cell_type": "markdown",
   "id": "ff3160ba-78c7-4a87-9b00-c116f23ca2cb",
   "metadata": {
    "tags": []
   },
   "source": [
    "# 2.0 Estratégia de Treino-Validação-Teste"
   ]
  },
  {
   "cell_type": "code",
   "execution_count": 82,
   "id": "ac042cf5-f2af-4913-b7ef-3fee86e5da40",
   "metadata": {
    "tags": []
   },
   "outputs": [],
   "source": [
    "# Separacao entre Treino e Validação\n",
    "X_train, X_val, y_train, y_val = ms.train_test_split(X_train, y_train, test_size = 0.2)\n",
    "\n",
    "# Treino-Teste já é holdout - já é segurar alguém de fora"
   ]
  },
  {
   "cell_type": "code",
   "execution_count": 83,
   "id": "360b84bd-6c92-4eaa-bcab-d7db54e6e827",
   "metadata": {
    "tags": []
   },
   "outputs": [],
   "source": [
    "values = [i for i in range(1, 60)]\n",
    "\n",
    "val_score = list()\n",
    "for i in values:\n",
    "    model = tr.DecisionTreeClassifier( max_depth = i)\n",
    "    model.fit (X_train, y_train)\n",
    "    \n",
    "    # Classificacao sobre a validação\n",
    "    yhat_val = model.predict( X_val )\n",
    "    acc_val = mt.accuracy_score(y_val, yhat_val)\n",
    "    \n",
    "    val_score.append(acc_val)"
   ]
  },
  {
   "cell_type": "code",
   "execution_count": 58,
   "id": "e5486eda-5fdd-4640-9426-30cda5199ae6",
   "metadata": {
    "tags": []
   },
   "outputs": [
    {
     "data": {
      "text/plain": [
       "[<matplotlib.lines.Line2D at 0x23898415550>]"
      ]
     },
     "execution_count": 58,
     "metadata": {},
     "output_type": "execute_result"
    },
    {
     "data": {
      "image/png": "[encoded data removed]",
      "text/plain": [
       "<Figure size 640x480 with 1 Axes>"
      ]
     },
     "metadata": {},
     "output_type": "display_data"
    }
   ],
   "source": [
    "# Vamos plotar os resultados\n",
    "plt.plot(values, val_score, '-o', label='Validacao')"
   ]
  },
  {
   "cell_type": "code",
   "execution_count": 84,
   "id": "d45bd629-83a3-44c4-a728-f4cee5b10287",
   "metadata": {
    "tags": []
   },
   "outputs": [
    {
     "name": "stdout",
     "output_type": "stream",
     "text": [
      "Acurácia em cima da produção: 0.873828125\n"
     ]
    }
   ],
   "source": [
    "# Previsão sobre os dados de validação\n",
    "# Classificacao sobre a validação\n",
    "model = tr.DecisionTreeClassifier( max_depth = 8)\n",
    "model.fit (X_train, y_train)\n",
    "\n",
    "yhat_val = model.predict( X_val )\n",
    "acc_val = mt.accuracy_score(y_val, yhat_val)\n",
    "\n",
    "print('Acurácia em cima da produção: {}'.format(acc_val))"
   ]
  },
  {
   "cell_type": "code",
   "execution_count": 85,
   "id": "4b160937-4f9e-43e6-b128-6eb63d23c953",
   "metadata": {
    "tags": []
   },
   "outputs": [
    {
     "name": "stdout",
     "output_type": "stream",
     "text": [
      "Acurácia em cima do test: 0.8990625\n"
     ]
    }
   ],
   "source": [
    "# Modelo treinado sobre training + validation\n",
    "model_last = tr.DecisionTreeClassifier(max_depth = 7)\n",
    "model_last.fit(np.concatenate((X_train, X_test)),\n",
    "               np.concatenate((y_train, y_test))\n",
    "              )\n",
    "\n",
    "# Classificacao sobre os dados de teste\n",
    "yhat_test = model_last.predict( X_test )\n",
    "acc_test = mt.accuracy_score(y_test, yhat_test)\n",
    "\n",
    "print('Acurácia em cima do test: {}'.format(acc_test))"
   ]
  },
  {
   "cell_type": "code",
   "execution_count": 86,
   "id": "472f5f0f-75f2-4a02-849b-bb94692d1ef2",
   "metadata": {
    "tags": []
   },
   "outputs": [
    {
     "name": "stdout",
     "output_type": "stream",
     "text": [
      "Acurácia em cima do test: 0.88325\n"
     ]
    }
   ],
   "source": [
    "# Classificacao sobre os dados de produção\n",
    "yhat_prod = model_last.predict( X_prod )\n",
    "acc_prod = mt.accuracy_score(y_prod, yhat_prod)\n",
    "\n",
    "print('Acurácia em cima do test: {}'.format(acc_prod))"
   ]
  },
  {
   "cell_type": "markdown",
   "id": "83521588-314b-43da-97c3-208ab7e9e160",
   "metadata": {},
   "source": [
    "Total (100%) -> Treino (80%) e Teste (20%)\n",
    "Treino (80%) -> Treino (60%) e Validacao (20%)\n",
    "\n",
    "Treino (60%), Validacao (20%), Teste (20%)\n",
    "\n",
    "Modelo -> Treino -> Treinar o algoritmo\n",
    "       -> Validacao -> Encontrar o melhor parametro\n",
    "\n",
    "Treino (60%) + Validacao (20%) -> Treino (80%)\n",
    "\n",
    "Modelo + Melhor Parametro + Treino (80%) -> Treino Last\n",
    "\n",
    "Modelo Last -> Teste (20%) -> Performance de Generalizacao (Report para negócio)\n",
    "\n",
    "Treino (Treino + validacao ) + Teste -> Producao"
   ]
  }
 ],
 "metadata": {
  "kernelspec": {
   "display_name": "Python 3 (ipykernel)",
   "language": "python",
   "name": "python3"
  },
  "language_info": {
   "codemirror_mode": {
    "name": "ipython",
    "version": 3
   },
   "file_extension": ".py",
   "mimetype": "text/x-python",
   "name": "python",
   "nbconvert_exporter": "python",
   "pygments_lexer": "ipython3",
   "version": "3.11.5"
  }
 },
 "nbformat": 4,
 "nbformat_minor": 5
}
